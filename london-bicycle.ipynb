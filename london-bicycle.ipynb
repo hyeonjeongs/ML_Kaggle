{
 "cells": [
  {
   "cell_type": "code",
   "execution_count": 1,
   "id": "97e183aa",
   "metadata": {
    "_cell_guid": "b1076dfc-b9ad-4769-8c92-a6c4dae69d19",
    "_uuid": "8f2839f25d086af736a60e9eeb907d3b93b6e0e5",
    "execution": {
     "iopub.execute_input": "2022-04-14T08:39:57.691087Z",
     "iopub.status.busy": "2022-04-14T08:39:57.690179Z",
     "iopub.status.idle": "2022-04-14T08:39:57.704109Z",
     "shell.execute_reply": "2022-04-14T08:39:57.704969Z",
     "shell.execute_reply.started": "2022-04-14T08:32:00.169132Z"
    },
    "papermill": {
     "duration": 0.065424,
     "end_time": "2022-04-14T08:39:57.705393",
     "exception": false,
     "start_time": "2022-04-14T08:39:57.639969",
     "status": "completed"
    },
    "tags": []
   },
   "outputs": [
    {
     "name": "stdout",
     "output_type": "stream",
     "text": [
      "/kaggle/input/london-bike-sharing-dataset/london_merged.csv\n"
     ]
    }
   ],
   "source": [
    "# This Python 3 environment comes with many helpful analytics libraries installed\n",
    "# It is defined by the kaggle/python Docker image: https://github.com/kaggle/docker-python\n",
    "# For example, here's several helpful packages to load\n",
    "\n",
    "import numpy as np # linear algebra\n",
    "import pandas as pd # data processing, CSV file I/O (e.g. pd.read_csv)\n",
    "\n",
    "# Input data files are available in the read-only \"../input/\" directory\n",
    "# For example, running this (by clicking run or pressing Shift+Enter) will list all files under the input directory\n",
    "\n",
    "import os\n",
    "for dirname, _, filenames in os.walk('/kaggle/input'):\n",
    "    for filename in filenames:\n",
    "        print(os.path.join(dirname, filename))\n",
    "\n",
    "# You can write up to 20GB to the current directory (/kaggle/working/) that gets preserved as output when you create a version using \"Save & Run All\" \n",
    "# You can also write temporary files to /kaggle/temp/, but they won't be saved outside of the current session"
   ]
  },
  {
   "cell_type": "code",
   "execution_count": 2,
   "id": "3e1af074",
   "metadata": {
    "execution": {
     "iopub.execute_input": "2022-04-14T08:39:57.778000Z",
     "iopub.status.busy": "2022-04-14T08:39:57.777303Z",
     "iopub.status.idle": "2022-04-14T08:39:58.918301Z",
     "shell.execute_reply": "2022-04-14T08:39:58.917657Z",
     "shell.execute_reply.started": "2022-04-14T08:32:00.208722Z"
    },
    "papermill": {
     "duration": 1.179438,
     "end_time": "2022-04-14T08:39:58.918459",
     "exception": false,
     "start_time": "2022-04-14T08:39:57.739021",
     "status": "completed"
    },
    "tags": []
   },
   "outputs": [],
   "source": [
    "import matplotlib.pyplot as plt #그래프 모듈\n",
    "import seaborn as sns\n",
    "import missingno as msno"
   ]
  },
  {
   "cell_type": "code",
   "execution_count": 3,
   "id": "f8e400f7",
   "metadata": {
    "execution": {
     "iopub.execute_input": "2022-04-14T08:39:59.000704Z",
     "iopub.status.busy": "2022-04-14T08:39:58.999999Z",
     "iopub.status.idle": "2022-04-14T08:39:59.080878Z",
     "shell.execute_reply": "2022-04-14T08:39:59.081452Z",
     "shell.execute_reply.started": "2022-04-14T08:32:00.249466Z"
    },
    "papermill": {
     "duration": 0.12605,
     "end_time": "2022-04-14T08:39:59.081660",
     "exception": false,
     "start_time": "2022-04-14T08:39:58.955610",
     "status": "completed"
    },
    "tags": []
   },
   "outputs": [
    {
     "data": {
      "text/html": [
       "<div>\n",
       "<style scoped>\n",
       "    .dataframe tbody tr th:only-of-type {\n",
       "        vertical-align: middle;\n",
       "    }\n",
       "\n",
       "    .dataframe tbody tr th {\n",
       "        vertical-align: top;\n",
       "    }\n",
       "\n",
       "    .dataframe thead th {\n",
       "        text-align: right;\n",
       "    }\n",
       "</style>\n",
       "<table border=\"1\" class=\"dataframe\">\n",
       "  <thead>\n",
       "    <tr style=\"text-align: right;\">\n",
       "      <th></th>\n",
       "      <th>timestamp</th>\n",
       "      <th>cnt</th>\n",
       "      <th>t1</th>\n",
       "      <th>t2</th>\n",
       "      <th>hum</th>\n",
       "      <th>wind_speed</th>\n",
       "      <th>weather_code</th>\n",
       "      <th>is_holiday</th>\n",
       "      <th>is_weekend</th>\n",
       "      <th>season</th>\n",
       "    </tr>\n",
       "  </thead>\n",
       "  <tbody>\n",
       "    <tr>\n",
       "      <th>0</th>\n",
       "      <td>2015-01-04 00:00:00</td>\n",
       "      <td>182</td>\n",
       "      <td>3.0</td>\n",
       "      <td>2.0</td>\n",
       "      <td>93.0</td>\n",
       "      <td>6.0</td>\n",
       "      <td>3.0</td>\n",
       "      <td>0.0</td>\n",
       "      <td>1.0</td>\n",
       "      <td>3.0</td>\n",
       "    </tr>\n",
       "    <tr>\n",
       "      <th>1</th>\n",
       "      <td>2015-01-04 01:00:00</td>\n",
       "      <td>138</td>\n",
       "      <td>3.0</td>\n",
       "      <td>2.5</td>\n",
       "      <td>93.0</td>\n",
       "      <td>5.0</td>\n",
       "      <td>1.0</td>\n",
       "      <td>0.0</td>\n",
       "      <td>1.0</td>\n",
       "      <td>3.0</td>\n",
       "    </tr>\n",
       "    <tr>\n",
       "      <th>2</th>\n",
       "      <td>2015-01-04 02:00:00</td>\n",
       "      <td>134</td>\n",
       "      <td>2.5</td>\n",
       "      <td>2.5</td>\n",
       "      <td>96.5</td>\n",
       "      <td>0.0</td>\n",
       "      <td>1.0</td>\n",
       "      <td>0.0</td>\n",
       "      <td>1.0</td>\n",
       "      <td>3.0</td>\n",
       "    </tr>\n",
       "    <tr>\n",
       "      <th>3</th>\n",
       "      <td>2015-01-04 03:00:00</td>\n",
       "      <td>72</td>\n",
       "      <td>2.0</td>\n",
       "      <td>2.0</td>\n",
       "      <td>100.0</td>\n",
       "      <td>0.0</td>\n",
       "      <td>1.0</td>\n",
       "      <td>0.0</td>\n",
       "      <td>1.0</td>\n",
       "      <td>3.0</td>\n",
       "    </tr>\n",
       "    <tr>\n",
       "      <th>4</th>\n",
       "      <td>2015-01-04 04:00:00</td>\n",
       "      <td>47</td>\n",
       "      <td>2.0</td>\n",
       "      <td>0.0</td>\n",
       "      <td>93.0</td>\n",
       "      <td>6.5</td>\n",
       "      <td>1.0</td>\n",
       "      <td>0.0</td>\n",
       "      <td>1.0</td>\n",
       "      <td>3.0</td>\n",
       "    </tr>\n",
       "  </tbody>\n",
       "</table>\n",
       "</div>"
      ],
      "text/plain": [
       "            timestamp  cnt   t1   t2    hum  wind_speed  weather_code  \\\n",
       "0 2015-01-04 00:00:00  182  3.0  2.0   93.0         6.0           3.0   \n",
       "1 2015-01-04 01:00:00  138  3.0  2.5   93.0         5.0           1.0   \n",
       "2 2015-01-04 02:00:00  134  2.5  2.5   96.5         0.0           1.0   \n",
       "3 2015-01-04 03:00:00   72  2.0  2.0  100.0         0.0           1.0   \n",
       "4 2015-01-04 04:00:00   47  2.0  0.0   93.0         6.5           1.0   \n",
       "\n",
       "   is_holiday  is_weekend  season  \n",
       "0         0.0         1.0     3.0  \n",
       "1         0.0         1.0     3.0  \n",
       "2         0.0         1.0     3.0  \n",
       "3         0.0         1.0     3.0  \n",
       "4         0.0         1.0     3.0  "
      ]
     },
     "execution_count": 3,
     "metadata": {},
     "output_type": "execute_result"
    }
   ],
   "source": [
    "df = pd.read_csv('/kaggle/input/london-bike-sharing-dataset/london_merged.csv',parse_dates = ['timestamp'])\n",
    "df.head()"
   ]
  },
  {
   "cell_type": "code",
   "execution_count": 4,
   "id": "43753471",
   "metadata": {
    "execution": {
     "iopub.execute_input": "2022-04-14T08:39:59.161988Z",
     "iopub.status.busy": "2022-04-14T08:39:59.158164Z",
     "iopub.status.idle": "2022-04-14T08:39:59.165195Z",
     "shell.execute_reply": "2022-04-14T08:39:59.165637Z",
     "shell.execute_reply.started": "2022-04-14T08:32:00.315680Z"
    },
    "papermill": {
     "duration": 0.046155,
     "end_time": "2022-04-14T08:39:59.165812",
     "exception": false,
     "start_time": "2022-04-14T08:39:59.119657",
     "status": "completed"
    },
    "tags": []
   },
   "outputs": [
    {
     "name": "stdout",
     "output_type": "stream",
     "text": [
      "데이터의 구조는 : (17414, 10)\n",
      "데이터의 타입은 : timestamp       datetime64[ns]\n",
      "cnt                      int64\n",
      "t1                     float64\n",
      "t2                     float64\n",
      "hum                    float64\n",
      "wind_speed             float64\n",
      "weather_code           float64\n",
      "is_holiday             float64\n",
      "is_weekend             float64\n",
      "season                 float64\n",
      "dtype: object\n",
      "데이터의 칼럼은 : Index(['timestamp', 'cnt', 't1', 't2', 'hum', 'wind_speed', 'weather_code',\n",
      "       'is_holiday', 'is_weekend', 'season'],\n",
      "      dtype='object')\n"
     ]
    }
   ],
   "source": [
    "#데이터의 타입과 구조\n",
    "\n",
    "print('데이터의 구조는 :',df.shape)\n",
    "print('데이터의 타입은 :',df.dtypes)\n",
    "print('데이터의 칼럼은 :',df.columns)"
   ]
  },
  {
   "cell_type": "code",
   "execution_count": 5,
   "id": "054fc5f4",
   "metadata": {
    "execution": {
     "iopub.execute_input": "2022-04-14T08:39:59.238486Z",
     "iopub.status.busy": "2022-04-14T08:39:59.237891Z",
     "iopub.status.idle": "2022-04-14T08:39:59.246642Z",
     "shell.execute_reply": "2022-04-14T08:39:59.247108Z",
     "shell.execute_reply.started": "2022-04-14T08:32:00.346781Z"
    },
    "papermill": {
     "duration": 0.045806,
     "end_time": "2022-04-14T08:39:59.247276",
     "exception": false,
     "start_time": "2022-04-14T08:39:59.201470",
     "status": "completed"
    },
    "tags": []
   },
   "outputs": [
    {
     "data": {
      "text/plain": [
       "timestamp       0\n",
       "cnt             0\n",
       "t1              0\n",
       "t2              0\n",
       "hum             0\n",
       "wind_speed      0\n",
       "weather_code    0\n",
       "is_holiday      0\n",
       "is_weekend      0\n",
       "season          0\n",
       "dtype: int64"
      ]
     },
     "execution_count": 5,
     "metadata": {},
     "output_type": "execute_result"
    }
   ],
   "source": [
    "df.isna().sum()"
   ]
  },
  {
   "cell_type": "code",
   "execution_count": 6,
   "id": "60fadd1c",
   "metadata": {
    "execution": {
     "iopub.execute_input": "2022-04-14T08:39:59.322630Z",
     "iopub.status.busy": "2022-04-14T08:39:59.321936Z",
     "iopub.status.idle": "2022-04-14T08:39:59.842445Z",
     "shell.execute_reply": "2022-04-14T08:39:59.842975Z",
     "shell.execute_reply.started": "2022-04-14T08:32:00.393816Z"
    },
    "papermill": {
     "duration": 0.558663,
     "end_time": "2022-04-14T08:39:59.843184",
     "exception": false,
     "start_time": "2022-04-14T08:39:59.284521",
     "status": "completed"
    },
    "tags": []
   },
   "outputs": [
    {
     "data": {
      "image/png": "[encoded data removed]",
      "text/plain": [
       "<Figure size 1800x720 with 2 Axes>"
      ]
     },
     "metadata": {
      "needs_background": "light"
     },
     "output_type": "display_data"
    }
   ],
   "source": [
    "msno.matrix(df)\n",
    "plt.show()"
   ]
  },
  {
   "cell_type": "code",
   "execution_count": 7,
   "id": "3fd4de8a",
   "metadata": {
    "execution": {
     "iopub.execute_input": "2022-04-14T08:39:59.921946Z",
     "iopub.status.busy": "2022-04-14T08:39:59.921222Z",
     "iopub.status.idle": "2022-04-14T08:39:59.954330Z",
     "shell.execute_reply": "2022-04-14T08:39:59.954856Z",
     "shell.execute_reply.started": "2022-04-14T08:32:00.835102Z"
    },
    "papermill": {
     "duration": 0.07386,
     "end_time": "2022-04-14T08:39:59.955065",
     "exception": false,
     "start_time": "2022-04-14T08:39:59.881205",
     "status": "completed"
    },
    "tags": []
   },
   "outputs": [
    {
     "data": {
      "text/html": [
       "<div>\n",
       "<style scoped>\n",
       "    .dataframe tbody tr th:only-of-type {\n",
       "        vertical-align: middle;\n",
       "    }\n",
       "\n",
       "    .dataframe tbody tr th {\n",
       "        vertical-align: top;\n",
       "    }\n",
       "\n",
       "    .dataframe thead th {\n",
       "        text-align: right;\n",
       "    }\n",
       "</style>\n",
       "<table border=\"1\" class=\"dataframe\">\n",
       "  <thead>\n",
       "    <tr style=\"text-align: right;\">\n",
       "      <th></th>\n",
       "      <th>timestamp</th>\n",
       "      <th>cnt</th>\n",
       "      <th>t1</th>\n",
       "      <th>t2</th>\n",
       "      <th>hum</th>\n",
       "      <th>wind_speed</th>\n",
       "      <th>weather_code</th>\n",
       "      <th>is_holiday</th>\n",
       "      <th>is_weekend</th>\n",
       "      <th>season</th>\n",
       "      <th>year</th>\n",
       "      <th>month</th>\n",
       "      <th>dayofweek</th>\n",
       "      <th>hour</th>\n",
       "    </tr>\n",
       "  </thead>\n",
       "  <tbody>\n",
       "    <tr>\n",
       "      <th>0</th>\n",
       "      <td>2015-01-04 00:00:00</td>\n",
       "      <td>182</td>\n",
       "      <td>3.0</td>\n",
       "      <td>2.0</td>\n",
       "      <td>93.0</td>\n",
       "      <td>6.0</td>\n",
       "      <td>3.0</td>\n",
       "      <td>0.0</td>\n",
       "      <td>1.0</td>\n",
       "      <td>3.0</td>\n",
       "      <td>2015</td>\n",
       "      <td>1</td>\n",
       "      <td>6</td>\n",
       "      <td>0</td>\n",
       "    </tr>\n",
       "    <tr>\n",
       "      <th>1</th>\n",
       "      <td>2015-01-04 01:00:00</td>\n",
       "      <td>138</td>\n",
       "      <td>3.0</td>\n",
       "      <td>2.5</td>\n",
       "      <td>93.0</td>\n",
       "      <td>5.0</td>\n",
       "      <td>1.0</td>\n",
       "      <td>0.0</td>\n",
       "      <td>1.0</td>\n",
       "      <td>3.0</td>\n",
       "      <td>2015</td>\n",
       "      <td>1</td>\n",
       "      <td>6</td>\n",
       "      <td>1</td>\n",
       "    </tr>\n",
       "    <tr>\n",
       "      <th>2</th>\n",
       "      <td>2015-01-04 02:00:00</td>\n",
       "      <td>134</td>\n",
       "      <td>2.5</td>\n",
       "      <td>2.5</td>\n",
       "      <td>96.5</td>\n",
       "      <td>0.0</td>\n",
       "      <td>1.0</td>\n",
       "      <td>0.0</td>\n",
       "      <td>1.0</td>\n",
       "      <td>3.0</td>\n",
       "      <td>2015</td>\n",
       "      <td>1</td>\n",
       "      <td>6</td>\n",
       "      <td>2</td>\n",
       "    </tr>\n",
       "    <tr>\n",
       "      <th>3</th>\n",
       "      <td>2015-01-04 03:00:00</td>\n",
       "      <td>72</td>\n",
       "      <td>2.0</td>\n",
       "      <td>2.0</td>\n",
       "      <td>100.0</td>\n",
       "      <td>0.0</td>\n",
       "      <td>1.0</td>\n",
       "      <td>0.0</td>\n",
       "      <td>1.0</td>\n",
       "      <td>3.0</td>\n",
       "      <td>2015</td>\n",
       "      <td>1</td>\n",
       "      <td>6</td>\n",
       "      <td>3</td>\n",
       "    </tr>\n",
       "    <tr>\n",
       "      <th>4</th>\n",
       "      <td>2015-01-04 04:00:00</td>\n",
       "      <td>47</td>\n",
       "      <td>2.0</td>\n",
       "      <td>0.0</td>\n",
       "      <td>93.0</td>\n",
       "      <td>6.5</td>\n",
       "      <td>1.0</td>\n",
       "      <td>0.0</td>\n",
       "      <td>1.0</td>\n",
       "      <td>3.0</td>\n",
       "      <td>2015</td>\n",
       "      <td>1</td>\n",
       "      <td>6</td>\n",
       "      <td>4</td>\n",
       "    </tr>\n",
       "  </tbody>\n",
       "</table>\n",
       "</div>"
      ],
      "text/plain": [
       "            timestamp  cnt   t1   t2    hum  wind_speed  weather_code  \\\n",
       "0 2015-01-04 00:00:00  182  3.0  2.0   93.0         6.0           3.0   \n",
       "1 2015-01-04 01:00:00  138  3.0  2.5   93.0         5.0           1.0   \n",
       "2 2015-01-04 02:00:00  134  2.5  2.5   96.5         0.0           1.0   \n",
       "3 2015-01-04 03:00:00   72  2.0  2.0  100.0         0.0           1.0   \n",
       "4 2015-01-04 04:00:00   47  2.0  0.0   93.0         6.5           1.0   \n",
       "\n",
       "   is_holiday  is_weekend  season  year  month  dayofweek  hour  \n",
       "0         0.0         1.0     3.0  2015      1          6     0  \n",
       "1         0.0         1.0     3.0  2015      1          6     1  \n",
       "2         0.0         1.0     3.0  2015      1          6     2  \n",
       "3         0.0         1.0     3.0  2015      1          6     3  \n",
       "4         0.0         1.0     3.0  2015      1          6     4  "
      ]
     },
     "execution_count": 7,
     "metadata": {},
     "output_type": "execute_result"
    }
   ],
   "source": [
    "df['year']= df['timestamp'].dt.year\n",
    "df['month']= df['timestamp'].dt.month\n",
    "df['dayofweek']= df['timestamp'].dt.dayofweek\n",
    "df['hour']= df['timestamp'].dt.hour\n",
    "df.head()"
   ]
  },
  {
   "cell_type": "code",
   "execution_count": 8,
   "id": "010ce9bf",
   "metadata": {
    "execution": {
     "iopub.execute_input": "2022-04-14T08:40:00.040614Z",
     "iopub.status.busy": "2022-04-14T08:40:00.033785Z",
     "iopub.status.idle": "2022-04-14T08:40:00.043770Z",
     "shell.execute_reply": "2022-04-14T08:40:00.043237Z",
     "shell.execute_reply.started": "2022-04-14T08:32:00.866581Z"
    },
    "papermill": {
     "duration": 0.050596,
     "end_time": "2022-04-14T08:40:00.043903",
     "exception": false,
     "start_time": "2022-04-14T08:39:59.993307",
     "status": "completed"
    },
    "tags": []
   },
   "outputs": [
    {
     "data": {
      "text/plain": [
       "0    2508\n",
       "6    2505\n",
       "1    2505\n",
       "3    2492\n",
       "2    2489\n",
       "5    2465\n",
       "4    2450\n",
       "Name: dayofweek, dtype: int64"
      ]
     },
     "execution_count": 8,
     "metadata": {},
     "output_type": "execute_result"
    }
   ],
   "source": [
    "df['dayofweek'].value_counts()"
   ]
  },
  {
   "cell_type": "code",
   "execution_count": 9,
   "id": "46354102",
   "metadata": {
    "execution": {
     "iopub.execute_input": "2022-04-14T08:40:00.127295Z",
     "iopub.status.busy": "2022-04-14T08:40:00.126338Z",
     "iopub.status.idle": "2022-04-14T08:40:00.361516Z",
     "shell.execute_reply": "2022-04-14T08:40:00.360880Z",
     "shell.execute_reply.started": "2022-04-14T08:32:00.875128Z"
    },
    "papermill": {
     "duration": 0.279689,
     "end_time": "2022-04-14T08:40:00.361685",
     "exception": false,
     "start_time": "2022-04-14T08:40:00.081996",
     "status": "completed"
    },
    "tags": []
   },
   "outputs": [
    {
     "data": {
      "text/plain": [
       "<AxesSubplot:xlabel='year', ylabel='cnt'>"
      ]
     },
     "execution_count": 9,
     "metadata": {},
     "output_type": "execute_result"
    },
    {
     "data": {
      "image/png": "[encoded data removed]",
      "text/plain": [
       "<Figure size 720x360 with 1 Axes>"
      ]
     },
     "metadata": {
      "needs_background": "light"
     },
     "output_type": "display_data"
    }
   ],
   "source": [
    "a, b = plt.subplots(1,1,figsize=(10, 5))\n",
    "sns.boxplot(x=df['year'], y=df['cnt'])"
   ]
  },
  {
   "cell_type": "code",
   "execution_count": 10,
   "id": "831a2eea",
   "metadata": {
    "execution": {
     "iopub.execute_input": "2022-04-14T08:40:00.461189Z",
     "iopub.status.busy": "2022-04-14T08:40:00.460580Z",
     "iopub.status.idle": "2022-04-14T08:40:00.804427Z",
     "shell.execute_reply": "2022-04-14T08:40:00.804969Z",
     "shell.execute_reply.started": "2022-04-14T08:32:01.062885Z"
    },
    "papermill": {
     "duration": 0.404975,
     "end_time": "2022-04-14T08:40:00.805145",
     "exception": false,
     "start_time": "2022-04-14T08:40:00.400170",
     "status": "completed"
    },
    "tags": []
   },
   "outputs": [
    {
     "data": {
      "text/plain": [
       "<AxesSubplot:xlabel='month', ylabel='cnt'>"
      ]
     },
     "execution_count": 10,
     "metadata": {},
     "output_type": "execute_result"
    },
    {
     "data": {
      "image/png": "[encoded data removed]",
      "text/plain": [
       "<Figure size 720x360 with 1 Axes>"
      ]
     },
     "metadata": {
      "needs_background": "light"
     },
     "output_type": "display_data"
    }
   ],
   "source": [
    "a,b = plt.subplots(1,1,figsize=(10, 5))\n",
    "sns.boxplot(x=df['month'], y=df['cnt'])"
   ]
  },
  {
   "cell_type": "code",
   "execution_count": 11,
   "id": "25e9fa92",
   "metadata": {
    "execution": {
     "iopub.execute_input": "2022-04-14T08:40:00.885299Z",
     "iopub.status.busy": "2022-04-14T08:40:00.884693Z",
     "iopub.status.idle": "2022-04-14T08:40:01.176770Z",
     "shell.execute_reply": "2022-04-14T08:40:01.176057Z",
     "shell.execute_reply.started": "2022-04-14T08:32:01.384404Z"
    },
    "papermill": {
     "duration": 0.3353,
     "end_time": "2022-04-14T08:40:01.176928",
     "exception": false,
     "start_time": "2022-04-14T08:40:00.841628",
     "status": "completed"
    },
    "tags": []
   },
   "outputs": [
    {
     "data": {
      "text/plain": [
       "<AxesSubplot:xlabel='dayofweek', ylabel='cnt'>"
      ]
     },
     "execution_count": 11,
     "metadata": {},
     "output_type": "execute_result"
    },
    {
     "data": {
      "image/png": "[encoded data removed]",
      "text/plain": [
       "<Figure size 720x360 with 1 Axes>"
      ]
     },
     "metadata": {
      "needs_background": "light"
     },
     "output_type": "display_data"
    }
   ],
   "source": [
    "a,b = plt.subplots(1,1,figsize=(10, 5))\n",
    "sns.boxplot(x=df['dayofweek'], y=df['cnt'])"
   ]
  },
  {
   "cell_type": "code",
   "execution_count": 12,
   "id": "823a7a26",
   "metadata": {
    "execution": {
     "iopub.execute_input": "2022-04-14T08:40:01.256960Z",
     "iopub.status.busy": "2022-04-14T08:40:01.256062Z",
     "iopub.status.idle": "2022-04-14T08:40:01.923716Z",
     "shell.execute_reply": "2022-04-14T08:40:01.924211Z",
     "shell.execute_reply.started": "2022-04-14T08:32:01.628461Z"
    },
    "papermill": {
     "duration": 0.708771,
     "end_time": "2022-04-14T08:40:01.924405",
     "exception": false,
     "start_time": "2022-04-14T08:40:01.215634",
     "status": "completed"
    },
    "tags": []
   },
   "outputs": [
    {
     "data": {
      "text/plain": [
       "<AxesSubplot:xlabel='hour', ylabel='cnt'>"
      ]
     },
     "execution_count": 12,
     "metadata": {},
     "output_type": "execute_result"
    },
    {
     "data": {
      "image/png": "[encoded data removed]",
      "text/plain": [
       "<Figure size 720x360 with 1 Axes>"
      ]
     },
     "metadata": {
      "needs_background": "light"
     },
     "output_type": "display_data"
    }
   ],
   "source": [
    "a,b = plt.subplots(1,1,figsize=(10, 5))\n",
    "sns.boxplot(x=df['hour'], y=df['cnt'])"
   ]
  },
  {
   "cell_type": "code",
   "execution_count": 13,
   "id": "fa9f999f",
   "metadata": {
    "execution": {
     "iopub.execute_input": "2022-04-14T08:40:02.013253Z",
     "iopub.status.busy": "2022-04-14T08:40:02.012588Z",
     "iopub.status.idle": "2022-04-14T08:40:02.016825Z",
     "shell.execute_reply": "2022-04-14T08:40:02.016167Z",
     "shell.execute_reply.started": "2022-04-14T08:32:02.145311Z"
    },
    "papermill": {
     "duration": 0.05057,
     "end_time": "2022-04-14T08:40:02.016990",
     "exception": false,
     "start_time": "2022-04-14T08:40:01.966420",
     "status": "completed"
    },
    "tags": []
   },
   "outputs": [],
   "source": [
    "#그래프 함수 만들기\n",
    "\n",
    "def plot_bar(data, feature):\n",
    "    fig = plt.figure(figsize=(12,3))\n",
    "    sns.barplot(x=feature, y='cnt', data=data, palette='Set3', orient='v')"
   ]
  },
  {
   "cell_type": "code",
   "execution_count": 14,
   "id": "2993d4c3",
   "metadata": {
    "execution": {
     "iopub.execute_input": "2022-04-14T08:40:02.105336Z",
     "iopub.status.busy": "2022-04-14T08:40:02.104708Z",
     "iopub.status.idle": "2022-04-14T08:40:03.258918Z",
     "shell.execute_reply": "2022-04-14T08:40:03.258437Z",
     "shell.execute_reply.started": "2022-04-14T08:32:02.156180Z"
    },
    "papermill": {
     "duration": 1.198762,
     "end_time": "2022-04-14T08:40:03.259054",
     "exception": false,
     "start_time": "2022-04-14T08:40:02.060292",
     "status": "completed"
    },
    "tags": []
   },
   "outputs": [
    {
     "data": {
      "image/png": "[encoded data removed]",
      "text/plain": [
       "<Figure size 864x216 with 1 Axes>"
      ]
     },
     "metadata": {
      "needs_background": "light"
     },
     "output_type": "display_data"
    }
   ],
   "source": [
    "plot_bar(df,'hour')"
   ]
  },
  {
   "cell_type": "code",
   "execution_count": 15,
   "id": "711f6cf0",
   "metadata": {
    "execution": {
     "iopub.execute_input": "2022-04-14T08:40:03.344737Z",
     "iopub.status.busy": "2022-04-14T08:40:03.344107Z",
     "iopub.status.idle": "2022-04-14T08:40:03.930776Z",
     "shell.execute_reply": "2022-04-14T08:40:03.931187Z",
     "shell.execute_reply.started": "2022-04-14T08:32:03.264943Z"
    },
    "papermill": {
     "duration": 0.632273,
     "end_time": "2022-04-14T08:40:03.931371",
     "exception": false,
     "start_time": "2022-04-14T08:40:03.299098",
     "status": "completed"
    },
    "tags": []
   },
   "outputs": [
    {
     "data": {
      "image/png": "[encoded data removed]",
      "text/plain": [
       "<Figure size 864x216 with 1 Axes>"
      ]
     },
     "metadata": {
      "needs_background": "light"
     },
     "output_type": "display_data"
    }
   ],
   "source": [
    "plot_bar(df,'dayofweek')"
   ]
  },
  {
   "cell_type": "code",
   "execution_count": 16,
   "id": "171374e4",
   "metadata": {
    "execution": {
     "iopub.execute_input": "2022-04-14T08:40:04.018565Z",
     "iopub.status.busy": "2022-04-14T08:40:04.017929Z",
     "iopub.status.idle": "2022-04-14T08:40:04.022207Z",
     "shell.execute_reply": "2022-04-14T08:40:04.022714Z",
     "shell.execute_reply.started": "2022-04-14T08:32:03.795255Z"
    },
    "papermill": {
     "duration": 0.051287,
     "end_time": "2022-04-14T08:40:04.022889",
     "exception": false,
     "start_time": "2022-04-14T08:40:03.971602",
     "status": "completed"
    },
    "tags": []
   },
   "outputs": [],
   "source": [
    "#아웃라이어 제거\n",
    "def is_outliers(s):\n",
    "    lower_limit = s.mean() - (s.std()*3) #s의 평규 - s의 표준편차 * 3 값\n",
    "    upper_limit = s.mean() + (s.std()*3)\n",
    "    return ~s.between(lower_limit,upper_limit) #상한과 하한 사이의 값을 돌려주는것"
   ]
  },
  {
   "cell_type": "code",
   "execution_count": 17,
   "id": "36f08a5b",
   "metadata": {
    "execution": {
     "iopub.execute_input": "2022-04-14T08:40:04.108220Z",
     "iopub.status.busy": "2022-04-14T08:40:04.107641Z",
     "iopub.status.idle": "2022-04-14T08:40:04.135235Z",
     "shell.execute_reply": "2022-04-14T08:40:04.135785Z",
     "shell.execute_reply.started": "2022-04-14T08:32:03.803166Z"
    },
    "papermill": {
     "duration": 0.073396,
     "end_time": "2022-04-14T08:40:04.135954",
     "exception": false,
     "start_time": "2022-04-14T08:40:04.062558",
     "status": "completed"
    },
    "tags": []
   },
   "outputs": [
    {
     "name": "stdout",
     "output_type": "stream",
     "text": [
      "이상치 제거전 : (17414, 14)\n",
      "이상치 제거후 : (17265, 14)\n"
     ]
    }
   ],
   "source": [
    "df_out = df[~df.groupby('hour')['cnt'].apply(is_outliers)]\n",
    "\n",
    "print('이상치 제거전 :',df.shape)\n",
    "print('이상치 제거후 :',df_out.shape)"
   ]
  },
  {
   "cell_type": "code",
   "execution_count": 18,
   "id": "87db9089",
   "metadata": {
    "execution": {
     "iopub.execute_input": "2022-04-14T08:40:04.222030Z",
     "iopub.status.busy": "2022-04-14T08:40:04.221330Z",
     "iopub.status.idle": "2022-04-14T08:40:04.227231Z",
     "shell.execute_reply": "2022-04-14T08:40:04.227745Z",
     "shell.execute_reply.started": "2022-04-14T08:32:03.844130Z"
    },
    "papermill": {
     "duration": 0.051225,
     "end_time": "2022-04-14T08:40:04.227919",
     "exception": false,
     "start_time": "2022-04-14T08:40:04.176694",
     "status": "completed"
    },
    "tags": []
   },
   "outputs": [
    {
     "data": {
      "text/plain": [
       "timestamp       datetime64[ns]\n",
       "cnt                      int64\n",
       "t1                     float64\n",
       "t2                     float64\n",
       "hum                    float64\n",
       "wind_speed             float64\n",
       "weather_code           float64\n",
       "is_holiday             float64\n",
       "is_weekend             float64\n",
       "season                 float64\n",
       "year                     int64\n",
       "month                    int64\n",
       "dayofweek                int64\n",
       "hour                     int64\n",
       "dtype: object"
      ]
     },
     "execution_count": 18,
     "metadata": {},
     "output_type": "execute_result"
    }
   ],
   "source": [
    "df_out.dtypes"
   ]
  },
  {
   "cell_type": "code",
   "execution_count": 19,
   "id": "a063a79a",
   "metadata": {
    "execution": {
     "iopub.execute_input": "2022-04-14T08:40:04.316308Z",
     "iopub.status.busy": "2022-04-14T08:40:04.314992Z",
     "iopub.status.idle": "2022-04-14T08:40:04.330491Z",
     "shell.execute_reply": "2022-04-14T08:40:04.331401Z",
     "shell.execute_reply.started": "2022-04-14T08:32:03.855646Z"
    },
    "papermill": {
     "duration": 0.060686,
     "end_time": "2022-04-14T08:40:04.331698",
     "exception": false,
     "start_time": "2022-04-14T08:40:04.271012",
     "status": "completed"
    },
    "tags": []
   },
   "outputs": [
    {
     "name": "stderr",
     "output_type": "stream",
     "text": [
      "/opt/conda/lib/python3.7/site-packages/ipykernel_launcher.py:1: SettingWithCopyWarning: \n",
      "A value is trying to be set on a copy of a slice from a DataFrame.\n",
      "Try using .loc[row_indexer,col_indexer] = value instead\n",
      "\n",
      "See the caveats in the documentation: https://pandas.pydata.org/pandas-docs/stable/user_guide/indexing.html#returning-a-view-versus-a-copy\n",
      "  \"\"\"Entry point for launching an IPython kernel.\n",
      "/opt/conda/lib/python3.7/site-packages/ipykernel_launcher.py:2: SettingWithCopyWarning: \n",
      "A value is trying to be set on a copy of a slice from a DataFrame.\n",
      "Try using .loc[row_indexer,col_indexer] = value instead\n",
      "\n",
      "See the caveats in the documentation: https://pandas.pydata.org/pandas-docs/stable/user_guide/indexing.html#returning-a-view-versus-a-copy\n",
      "  \n",
      "/opt/conda/lib/python3.7/site-packages/ipykernel_launcher.py:3: SettingWithCopyWarning: \n",
      "A value is trying to be set on a copy of a slice from a DataFrame.\n",
      "Try using .loc[row_indexer,col_indexer] = value instead\n",
      "\n",
      "See the caveats in the documentation: https://pandas.pydata.org/pandas-docs/stable/user_guide/indexing.html#returning-a-view-versus-a-copy\n",
      "  This is separate from the ipykernel package so we can avoid doing imports until\n",
      "/opt/conda/lib/python3.7/site-packages/ipykernel_launcher.py:4: SettingWithCopyWarning: \n",
      "A value is trying to be set on a copy of a slice from a DataFrame.\n",
      "Try using .loc[row_indexer,col_indexer] = value instead\n",
      "\n",
      "See the caveats in the documentation: https://pandas.pydata.org/pandas-docs/stable/user_guide/indexing.html#returning-a-view-versus-a-copy\n",
      "  after removing the cwd from sys.path.\n",
      "/opt/conda/lib/python3.7/site-packages/ipykernel_launcher.py:5: SettingWithCopyWarning: \n",
      "A value is trying to be set on a copy of a slice from a DataFrame.\n",
      "Try using .loc[row_indexer,col_indexer] = value instead\n",
      "\n",
      "See the caveats in the documentation: https://pandas.pydata.org/pandas-docs/stable/user_guide/indexing.html#returning-a-view-versus-a-copy\n",
      "  \"\"\"\n"
     ]
    }
   ],
   "source": [
    "df_out['weather_code'] = df_out['weather_code'].astype('category')\n",
    "df_out['season'] = df_out['season'].astype('category')\n",
    "df_out['year'] = df_out['year'].astype('category')\n",
    "df_out['month'] = df_out['month'].astype('category')\n",
    "df_out['hour'] = df_out['hour'].astype('category')"
   ]
  },
  {
   "cell_type": "code",
   "execution_count": 20,
   "id": "fbcb8f1b",
   "metadata": {
    "execution": {
     "iopub.execute_input": "2022-04-14T08:40:04.421562Z",
     "iopub.status.busy": "2022-04-14T08:40:04.420953Z",
     "iopub.status.idle": "2022-04-14T08:40:04.427794Z",
     "shell.execute_reply": "2022-04-14T08:40:04.428292Z",
     "shell.execute_reply.started": "2022-04-14T08:32:03.873287Z"
    },
    "papermill": {
     "duration": 0.053895,
     "end_time": "2022-04-14T08:40:04.428467",
     "exception": false,
     "start_time": "2022-04-14T08:40:04.374572",
     "status": "completed"
    },
    "tags": []
   },
   "outputs": [
    {
     "data": {
      "text/plain": [
       "timestamp       datetime64[ns]\n",
       "cnt                      int64\n",
       "t1                     float64\n",
       "t2                     float64\n",
       "hum                    float64\n",
       "wind_speed             float64\n",
       "weather_code          category\n",
       "is_holiday             float64\n",
       "is_weekend             float64\n",
       "season                category\n",
       "year                  category\n",
       "month                 category\n",
       "dayofweek                int64\n",
       "hour                  category\n",
       "dtype: object"
      ]
     },
     "execution_count": 20,
     "metadata": {},
     "output_type": "execute_result"
    }
   ],
   "source": [
    "df_out.dtypes"
   ]
  },
  {
   "cell_type": "code",
   "execution_count": 21,
   "id": "28dfca39",
   "metadata": {
    "execution": {
     "iopub.execute_input": "2022-04-14T08:40:04.517588Z",
     "iopub.status.busy": "2022-04-14T08:40:04.516959Z",
     "iopub.status.idle": "2022-04-14T08:40:04.530471Z",
     "shell.execute_reply": "2022-04-14T08:40:04.529849Z",
     "shell.execute_reply.started": "2022-04-14T08:32:03.882673Z"
    },
    "papermill": {
     "duration": 0.059397,
     "end_time": "2022-04-14T08:40:04.530630",
     "exception": false,
     "start_time": "2022-04-14T08:40:04.471233",
     "status": "completed"
    },
    "tags": []
   },
   "outputs": [
    {
     "name": "stderr",
     "output_type": "stream",
     "text": [
      "/opt/conda/lib/python3.7/site-packages/pandas/io/formats/format.py:1429: FutureWarning: Index.ravel returning ndarray is deprecated; in a future version this will return a view on self.\n",
      "  for val, m in zip(values.ravel(), mask.ravel())\n"
     ]
    },
    {
     "data": {
      "text/plain": [
       "0        3.0\n",
       "1        3.0\n",
       "2        3.0\n",
       "3        3.0\n",
       "4        3.0\n",
       "        ... \n",
       "17409    3.0\n",
       "17410    3.0\n",
       "17411    3.0\n",
       "17412    3.0\n",
       "17413    3.0\n",
       "Name: season, Length: 17265, dtype: category\n",
       "Categories (4, float64): [0.0, 1.0, 2.0, 3.0]"
      ]
     },
     "execution_count": 21,
     "metadata": {},
     "output_type": "execute_result"
    }
   ],
   "source": [
    "df_out['season']"
   ]
  },
  {
   "cell_type": "code",
   "execution_count": 22,
   "id": "8176bfb9",
   "metadata": {
    "execution": {
     "iopub.execute_input": "2022-04-14T08:40:04.619941Z",
     "iopub.status.busy": "2022-04-14T08:40:04.619300Z",
     "iopub.status.idle": "2022-04-14T08:40:04.652840Z",
     "shell.execute_reply": "2022-04-14T08:40:04.652350Z",
     "shell.execute_reply.started": "2022-04-14T08:32:03.901518Z"
    },
    "papermill": {
     "duration": 0.079395,
     "end_time": "2022-04-14T08:40:04.652988",
     "exception": false,
     "start_time": "2022-04-14T08:40:04.573593",
     "status": "completed"
    },
    "tags": []
   },
   "outputs": [
    {
     "data": {
      "text/html": [
       "<div>\n",
       "<style scoped>\n",
       "    .dataframe tbody tr th:only-of-type {\n",
       "        vertical-align: middle;\n",
       "    }\n",
       "\n",
       "    .dataframe tbody tr th {\n",
       "        vertical-align: top;\n",
       "    }\n",
       "\n",
       "    .dataframe thead th {\n",
       "        text-align: right;\n",
       "    }\n",
       "</style>\n",
       "<table border=\"1\" class=\"dataframe\">\n",
       "  <thead>\n",
       "    <tr style=\"text-align: right;\">\n",
       "      <th></th>\n",
       "      <th>timestamp</th>\n",
       "      <th>cnt</th>\n",
       "      <th>t1</th>\n",
       "      <th>t2</th>\n",
       "      <th>hum</th>\n",
       "      <th>wind_speed</th>\n",
       "      <th>is_holiday</th>\n",
       "      <th>is_weekend</th>\n",
       "      <th>dayofweek</th>\n",
       "      <th>weather_code_1.0</th>\n",
       "      <th>...</th>\n",
       "      <th>hour_14</th>\n",
       "      <th>hour_15</th>\n",
       "      <th>hour_16</th>\n",
       "      <th>hour_17</th>\n",
       "      <th>hour_18</th>\n",
       "      <th>hour_19</th>\n",
       "      <th>hour_20</th>\n",
       "      <th>hour_21</th>\n",
       "      <th>hour_22</th>\n",
       "      <th>hour_23</th>\n",
       "    </tr>\n",
       "  </thead>\n",
       "  <tbody>\n",
       "    <tr>\n",
       "      <th>0</th>\n",
       "      <td>2015-01-04 00:00:00</td>\n",
       "      <td>182</td>\n",
       "      <td>3.0</td>\n",
       "      <td>2.0</td>\n",
       "      <td>93.0</td>\n",
       "      <td>6.0</td>\n",
       "      <td>0.0</td>\n",
       "      <td>1.0</td>\n",
       "      <td>6</td>\n",
       "      <td>0</td>\n",
       "      <td>...</td>\n",
       "      <td>0</td>\n",
       "      <td>0</td>\n",
       "      <td>0</td>\n",
       "      <td>0</td>\n",
       "      <td>0</td>\n",
       "      <td>0</td>\n",
       "      <td>0</td>\n",
       "      <td>0</td>\n",
       "      <td>0</td>\n",
       "      <td>0</td>\n",
       "    </tr>\n",
       "    <tr>\n",
       "      <th>1</th>\n",
       "      <td>2015-01-04 01:00:00</td>\n",
       "      <td>138</td>\n",
       "      <td>3.0</td>\n",
       "      <td>2.5</td>\n",
       "      <td>93.0</td>\n",
       "      <td>5.0</td>\n",
       "      <td>0.0</td>\n",
       "      <td>1.0</td>\n",
       "      <td>6</td>\n",
       "      <td>1</td>\n",
       "      <td>...</td>\n",
       "      <td>0</td>\n",
       "      <td>0</td>\n",
       "      <td>0</td>\n",
       "      <td>0</td>\n",
       "      <td>0</td>\n",
       "      <td>0</td>\n",
       "      <td>0</td>\n",
       "      <td>0</td>\n",
       "      <td>0</td>\n",
       "      <td>0</td>\n",
       "    </tr>\n",
       "    <tr>\n",
       "      <th>2</th>\n",
       "      <td>2015-01-04 02:00:00</td>\n",
       "      <td>134</td>\n",
       "      <td>2.5</td>\n",
       "      <td>2.5</td>\n",
       "      <td>96.5</td>\n",
       "      <td>0.0</td>\n",
       "      <td>0.0</td>\n",
       "      <td>1.0</td>\n",
       "      <td>6</td>\n",
       "      <td>1</td>\n",
       "      <td>...</td>\n",
       "      <td>0</td>\n",
       "      <td>0</td>\n",
       "      <td>0</td>\n",
       "      <td>0</td>\n",
       "      <td>0</td>\n",
       "      <td>0</td>\n",
       "      <td>0</td>\n",
       "      <td>0</td>\n",
       "      <td>0</td>\n",
       "      <td>0</td>\n",
       "    </tr>\n",
       "    <tr>\n",
       "      <th>3</th>\n",
       "      <td>2015-01-04 03:00:00</td>\n",
       "      <td>72</td>\n",
       "      <td>2.0</td>\n",
       "      <td>2.0</td>\n",
       "      <td>100.0</td>\n",
       "      <td>0.0</td>\n",
       "      <td>0.0</td>\n",
       "      <td>1.0</td>\n",
       "      <td>6</td>\n",
       "      <td>1</td>\n",
       "      <td>...</td>\n",
       "      <td>0</td>\n",
       "      <td>0</td>\n",
       "      <td>0</td>\n",
       "      <td>0</td>\n",
       "      <td>0</td>\n",
       "      <td>0</td>\n",
       "      <td>0</td>\n",
       "      <td>0</td>\n",
       "      <td>0</td>\n",
       "      <td>0</td>\n",
       "    </tr>\n",
       "    <tr>\n",
       "      <th>4</th>\n",
       "      <td>2015-01-04 04:00:00</td>\n",
       "      <td>47</td>\n",
       "      <td>2.0</td>\n",
       "      <td>0.0</td>\n",
       "      <td>93.0</td>\n",
       "      <td>6.5</td>\n",
       "      <td>0.0</td>\n",
       "      <td>1.0</td>\n",
       "      <td>6</td>\n",
       "      <td>1</td>\n",
       "      <td>...</td>\n",
       "      <td>0</td>\n",
       "      <td>0</td>\n",
       "      <td>0</td>\n",
       "      <td>0</td>\n",
       "      <td>0</td>\n",
       "      <td>0</td>\n",
       "      <td>0</td>\n",
       "      <td>0</td>\n",
       "      <td>0</td>\n",
       "      <td>0</td>\n",
       "    </tr>\n",
       "  </tbody>\n",
       "</table>\n",
       "<p>5 rows × 59 columns</p>\n",
       "</div>"
      ],
      "text/plain": [
       "            timestamp  cnt   t1   t2    hum  wind_speed  is_holiday  \\\n",
       "0 2015-01-04 00:00:00  182  3.0  2.0   93.0         6.0         0.0   \n",
       "1 2015-01-04 01:00:00  138  3.0  2.5   93.0         5.0         0.0   \n",
       "2 2015-01-04 02:00:00  134  2.5  2.5   96.5         0.0         0.0   \n",
       "3 2015-01-04 03:00:00   72  2.0  2.0  100.0         0.0         0.0   \n",
       "4 2015-01-04 04:00:00   47  2.0  0.0   93.0         6.5         0.0   \n",
       "\n",
       "   is_weekend  dayofweek  weather_code_1.0  ...  hour_14  hour_15  hour_16  \\\n",
       "0         1.0          6                 0  ...        0        0        0   \n",
       "1         1.0          6                 1  ...        0        0        0   \n",
       "2         1.0          6                 1  ...        0        0        0   \n",
       "3         1.0          6                 1  ...        0        0        0   \n",
       "4         1.0          6                 1  ...        0        0        0   \n",
       "\n",
       "   hour_17  hour_18  hour_19  hour_20  hour_21  hour_22  hour_23  \n",
       "0        0        0        0        0        0        0        0  \n",
       "1        0        0        0        0        0        0        0  \n",
       "2        0        0        0        0        0        0        0  \n",
       "3        0        0        0        0        0        0        0  \n",
       "4        0        0        0        0        0        0        0  \n",
       "\n",
       "[5 rows x 59 columns]"
      ]
     },
     "execution_count": 22,
     "metadata": {},
     "output_type": "execute_result"
    }
   ],
   "source": [
    "df_out = pd.get_dummies(df_out,columns=['weather_code','season','year','month','hour'])\n",
    "df_out.head()"
   ]
  },
  {
   "cell_type": "code",
   "execution_count": 23,
   "id": "36401432",
   "metadata": {
    "execution": {
     "iopub.execute_input": "2022-04-14T08:40:04.746760Z",
     "iopub.status.busy": "2022-04-14T08:40:04.746127Z",
     "iopub.status.idle": "2022-04-14T08:40:04.748834Z",
     "shell.execute_reply": "2022-04-14T08:40:04.749263Z",
     "shell.execute_reply.started": "2022-04-14T08:32:03.940125Z"
    },
    "papermill": {
     "duration": 0.052387,
     "end_time": "2022-04-14T08:40:04.749430",
     "exception": false,
     "start_time": "2022-04-14T08:40:04.697043",
     "status": "completed"
    },
    "tags": []
   },
   "outputs": [
    {
     "data": {
      "text/plain": [
       "(17265, 59)"
      ]
     },
     "execution_count": 23,
     "metadata": {},
     "output_type": "execute_result"
    }
   ],
   "source": [
    "df_out.shape"
   ]
  },
  {
   "cell_type": "code",
   "execution_count": 24,
   "id": "aebb300d",
   "metadata": {
    "execution": {
     "iopub.execute_input": "2022-04-14T08:40:04.839639Z",
     "iopub.status.busy": "2022-04-14T08:40:04.839007Z",
     "iopub.status.idle": "2022-04-14T08:40:04.860874Z",
     "shell.execute_reply": "2022-04-14T08:40:04.861285Z",
     "shell.execute_reply.started": "2022-04-14T08:32:03.947638Z"
    },
    "papermill": {
     "duration": 0.068468,
     "end_time": "2022-04-14T08:40:04.861456",
     "exception": false,
     "start_time": "2022-04-14T08:40:04.792988",
     "status": "completed"
    },
    "tags": []
   },
   "outputs": [
    {
     "data": {
      "text/html": [
       "<div>\n",
       "<style scoped>\n",
       "    .dataframe tbody tr th:only-of-type {\n",
       "        vertical-align: middle;\n",
       "    }\n",
       "\n",
       "    .dataframe tbody tr th {\n",
       "        vertical-align: top;\n",
       "    }\n",
       "\n",
       "    .dataframe thead th {\n",
       "        text-align: right;\n",
       "    }\n",
       "</style>\n",
       "<table border=\"1\" class=\"dataframe\">\n",
       "  <thead>\n",
       "    <tr style=\"text-align: right;\">\n",
       "      <th></th>\n",
       "      <th>t1</th>\n",
       "      <th>t2</th>\n",
       "      <th>hum</th>\n",
       "      <th>wind_speed</th>\n",
       "      <th>is_holiday</th>\n",
       "      <th>is_weekend</th>\n",
       "      <th>dayofweek</th>\n",
       "      <th>weather_code_1.0</th>\n",
       "      <th>weather_code_2.0</th>\n",
       "      <th>weather_code_3.0</th>\n",
       "      <th>...</th>\n",
       "      <th>hour_14</th>\n",
       "      <th>hour_15</th>\n",
       "      <th>hour_16</th>\n",
       "      <th>hour_17</th>\n",
       "      <th>hour_18</th>\n",
       "      <th>hour_19</th>\n",
       "      <th>hour_20</th>\n",
       "      <th>hour_21</th>\n",
       "      <th>hour_22</th>\n",
       "      <th>hour_23</th>\n",
       "    </tr>\n",
       "  </thead>\n",
       "  <tbody>\n",
       "    <tr>\n",
       "      <th>0</th>\n",
       "      <td>3.0</td>\n",
       "      <td>2.0</td>\n",
       "      <td>93.0</td>\n",
       "      <td>6.0</td>\n",
       "      <td>0.0</td>\n",
       "      <td>1.0</td>\n",
       "      <td>6</td>\n",
       "      <td>0</td>\n",
       "      <td>0</td>\n",
       "      <td>1</td>\n",
       "      <td>...</td>\n",
       "      <td>0</td>\n",
       "      <td>0</td>\n",
       "      <td>0</td>\n",
       "      <td>0</td>\n",
       "      <td>0</td>\n",
       "      <td>0</td>\n",
       "      <td>0</td>\n",
       "      <td>0</td>\n",
       "      <td>0</td>\n",
       "      <td>0</td>\n",
       "    </tr>\n",
       "    <tr>\n",
       "      <th>1</th>\n",
       "      <td>3.0</td>\n",
       "      <td>2.5</td>\n",
       "      <td>93.0</td>\n",
       "      <td>5.0</td>\n",
       "      <td>0.0</td>\n",
       "      <td>1.0</td>\n",
       "      <td>6</td>\n",
       "      <td>1</td>\n",
       "      <td>0</td>\n",
       "      <td>0</td>\n",
       "      <td>...</td>\n",
       "      <td>0</td>\n",
       "      <td>0</td>\n",
       "      <td>0</td>\n",
       "      <td>0</td>\n",
       "      <td>0</td>\n",
       "      <td>0</td>\n",
       "      <td>0</td>\n",
       "      <td>0</td>\n",
       "      <td>0</td>\n",
       "      <td>0</td>\n",
       "    </tr>\n",
       "    <tr>\n",
       "      <th>2</th>\n",
       "      <td>2.5</td>\n",
       "      <td>2.5</td>\n",
       "      <td>96.5</td>\n",
       "      <td>0.0</td>\n",
       "      <td>0.0</td>\n",
       "      <td>1.0</td>\n",
       "      <td>6</td>\n",
       "      <td>1</td>\n",
       "      <td>0</td>\n",
       "      <td>0</td>\n",
       "      <td>...</td>\n",
       "      <td>0</td>\n",
       "      <td>0</td>\n",
       "      <td>0</td>\n",
       "      <td>0</td>\n",
       "      <td>0</td>\n",
       "      <td>0</td>\n",
       "      <td>0</td>\n",
       "      <td>0</td>\n",
       "      <td>0</td>\n",
       "      <td>0</td>\n",
       "    </tr>\n",
       "    <tr>\n",
       "      <th>3</th>\n",
       "      <td>2.0</td>\n",
       "      <td>2.0</td>\n",
       "      <td>100.0</td>\n",
       "      <td>0.0</td>\n",
       "      <td>0.0</td>\n",
       "      <td>1.0</td>\n",
       "      <td>6</td>\n",
       "      <td>1</td>\n",
       "      <td>0</td>\n",
       "      <td>0</td>\n",
       "      <td>...</td>\n",
       "      <td>0</td>\n",
       "      <td>0</td>\n",
       "      <td>0</td>\n",
       "      <td>0</td>\n",
       "      <td>0</td>\n",
       "      <td>0</td>\n",
       "      <td>0</td>\n",
       "      <td>0</td>\n",
       "      <td>0</td>\n",
       "      <td>0</td>\n",
       "    </tr>\n",
       "    <tr>\n",
       "      <th>4</th>\n",
       "      <td>2.0</td>\n",
       "      <td>0.0</td>\n",
       "      <td>93.0</td>\n",
       "      <td>6.5</td>\n",
       "      <td>0.0</td>\n",
       "      <td>1.0</td>\n",
       "      <td>6</td>\n",
       "      <td>1</td>\n",
       "      <td>0</td>\n",
       "      <td>0</td>\n",
       "      <td>...</td>\n",
       "      <td>0</td>\n",
       "      <td>0</td>\n",
       "      <td>0</td>\n",
       "      <td>0</td>\n",
       "      <td>0</td>\n",
       "      <td>0</td>\n",
       "      <td>0</td>\n",
       "      <td>0</td>\n",
       "      <td>0</td>\n",
       "      <td>0</td>\n",
       "    </tr>\n",
       "  </tbody>\n",
       "</table>\n",
       "<p>5 rows × 57 columns</p>\n",
       "</div>"
      ],
      "text/plain": [
       "    t1   t2    hum  wind_speed  is_holiday  is_weekend  dayofweek  \\\n",
       "0  3.0  2.0   93.0         6.0         0.0         1.0          6   \n",
       "1  3.0  2.5   93.0         5.0         0.0         1.0          6   \n",
       "2  2.5  2.5   96.5         0.0         0.0         1.0          6   \n",
       "3  2.0  2.0  100.0         0.0         0.0         1.0          6   \n",
       "4  2.0  0.0   93.0         6.5         0.0         1.0          6   \n",
       "\n",
       "   weather_code_1.0  weather_code_2.0  weather_code_3.0  ...  hour_14  \\\n",
       "0                 0                 0                 1  ...        0   \n",
       "1                 1                 0                 0  ...        0   \n",
       "2                 1                 0                 0  ...        0   \n",
       "3                 1                 0                 0  ...        0   \n",
       "4                 1                 0                 0  ...        0   \n",
       "\n",
       "   hour_15  hour_16  hour_17  hour_18  hour_19  hour_20  hour_21  hour_22  \\\n",
       "0        0        0        0        0        0        0        0        0   \n",
       "1        0        0        0        0        0        0        0        0   \n",
       "2        0        0        0        0        0        0        0        0   \n",
       "3        0        0        0        0        0        0        0        0   \n",
       "4        0        0        0        0        0        0        0        0   \n",
       "\n",
       "   hour_23  \n",
       "0        0  \n",
       "1        0  \n",
       "2        0  \n",
       "3        0  \n",
       "4        0  \n",
       "\n",
       "[5 rows x 57 columns]"
      ]
     },
     "execution_count": 24,
     "metadata": {},
     "output_type": "execute_result"
    }
   ],
   "source": [
    "df_y = df_out['cnt'] # 자전거 이용객수\n",
    "df_x = df_out.drop(['timestamp','cnt'],axis=1) #axir = 1은 열을 기준으로 데이터를 버린다/0은 가로축 기준으로 버림\n",
    "df_x.head()"
   ]
  },
  {
   "cell_type": "code",
   "execution_count": 25,
   "id": "9a0b6f03",
   "metadata": {
    "execution": {
     "iopub.execute_input": "2022-04-14T08:40:04.952034Z",
     "iopub.status.busy": "2022-04-14T08:40:04.951413Z",
     "iopub.status.idle": "2022-04-14T08:40:04.956794Z",
     "shell.execute_reply": "2022-04-14T08:40:04.957211Z",
     "shell.execute_reply.started": "2022-04-14T08:32:03.983259Z"
    },
    "papermill": {
     "duration": 0.052496,
     "end_time": "2022-04-14T08:40:04.957403",
     "exception": false,
     "start_time": "2022-04-14T08:40:04.904907",
     "status": "completed"
    },
    "tags": []
   },
   "outputs": [
    {
     "data": {
      "text/plain": [
       "0    182\n",
       "1    138\n",
       "2    134\n",
       "3     72\n",
       "4     47\n",
       "Name: cnt, dtype: int64"
      ]
     },
     "execution_count": 25,
     "metadata": {},
     "output_type": "execute_result"
    }
   ],
   "source": [
    "df_y.head()"
   ]
  },
  {
   "cell_type": "code",
   "execution_count": 26,
   "id": "b524cd9f",
   "metadata": {
    "execution": {
     "iopub.execute_input": "2022-04-14T08:40:05.049423Z",
     "iopub.status.busy": "2022-04-14T08:40:05.048824Z",
     "iopub.status.idle": "2022-04-14T08:40:05.252327Z",
     "shell.execute_reply": "2022-04-14T08:40:05.251636Z",
     "shell.execute_reply.started": "2022-04-14T08:32:03.991617Z"
    },
    "papermill": {
     "duration": 0.251892,
     "end_time": "2022-04-14T08:40:05.252483",
     "exception": false,
     "start_time": "2022-04-14T08:40:05.000591",
     "status": "completed"
    },
    "tags": []
   },
   "outputs": [],
   "source": [
    "#훈령용, 테스트용 데이터 분리\n",
    "\n",
    "from sklearn.model_selection import train_test_split\n",
    "x_train, x_test, y_train, y_test = train_test_split(df_x,df_y,random_state=66, test_size=0.3,shuffle=False)"
   ]
  },
  {
   "cell_type": "code",
   "execution_count": 27,
   "id": "a7e88e02",
   "metadata": {
    "execution": {
     "iopub.execute_input": "2022-04-14T08:40:05.350313Z",
     "iopub.status.busy": "2022-04-14T08:40:05.349498Z",
     "iopub.status.idle": "2022-04-14T08:40:05.353695Z",
     "shell.execute_reply": "2022-04-14T08:40:05.354137Z",
     "shell.execute_reply.started": "2022-04-14T08:32:04.014112Z"
    },
    "papermill": {
     "duration": 0.055902,
     "end_time": "2022-04-14T08:40:05.354317",
     "exception": false,
     "start_time": "2022-04-14T08:40:05.298415",
     "status": "completed"
    },
    "tags": []
   },
   "outputs": [
    {
     "name": "stdout",
     "output_type": "stream",
     "text": [
      "x_train 구조는  (12085, 57)\n",
      "y_train 구조는  (12085,)\n",
      "x_test 구조는  (5180, 57)\n",
      "y_test 구조는  (5180,)\n"
     ]
    }
   ],
   "source": [
    "print('x_train 구조는 ', x_train.shape)\n",
    "print('y_train 구조는 ', y_train.shape)\n",
    "\n",
    "print('x_test 구조는 ', x_test.shape)\n",
    "print('y_test 구조는 ', y_test.shape)"
   ]
  },
  {
   "cell_type": "code",
   "execution_count": 28,
   "id": "0b860ff4",
   "metadata": {
    "execution": {
     "iopub.execute_input": "2022-04-14T08:40:05.447174Z",
     "iopub.status.busy": "2022-04-14T08:40:05.446258Z",
     "iopub.status.idle": "2022-04-14T08:40:11.410936Z",
     "shell.execute_reply": "2022-04-14T08:40:11.410424Z",
     "shell.execute_reply.started": "2022-04-14T08:32:04.023092Z"
    },
    "papermill": {
     "duration": 6.013245,
     "end_time": "2022-04-14T08:40:11.411078",
     "exception": false,
     "start_time": "2022-04-14T08:40:05.397833",
     "status": "completed"
    },
    "tags": []
   },
   "outputs": [],
   "source": [
    "import keras\n",
    "from keras.models import Sequential\n",
    "from keras.layers import Dense\n",
    "from keras.callbacks import EarlyStopping"
   ]
  },
  {
   "cell_type": "code",
   "execution_count": 29,
   "id": "41042e0b",
   "metadata": {
    "execution": {
     "iopub.execute_input": "2022-04-14T08:40:11.504945Z",
     "iopub.status.busy": "2022-04-14T08:40:11.504313Z",
     "iopub.status.idle": "2022-04-14T08:40:11.623291Z",
     "shell.execute_reply": "2022-04-14T08:40:11.622717Z",
     "shell.execute_reply.started": "2022-04-14T08:32:04.033168Z"
    },
    "papermill": {
     "duration": 0.168714,
     "end_time": "2022-04-14T08:40:11.623422",
     "exception": false,
     "start_time": "2022-04-14T08:40:11.454708",
     "status": "completed"
    },
    "tags": []
   },
   "outputs": [
    {
     "name": "stderr",
     "output_type": "stream",
     "text": [
      "2022-04-14 08:40:11.534328: I tensorflow/core/common_runtime/process_util.cc:146] Creating new thread pool with default inter op setting: 2. Tune using inter_op_parallelism_threads for best performance.\n"
     ]
    }
   ],
   "source": [
    "model = Sequential()\n",
    "model.add(Dense(units=160, activation='relu', input_dim=57))\n",
    "model.add(Dense(units=60, activation='relu'))\n",
    "model.add(Dense(units=20, activation='relu'))\n",
    "model.add(Dense(units=1, activation='linear'))"
   ]
  },
  {
   "cell_type": "code",
   "execution_count": 30,
   "id": "dc1bf90a",
   "metadata": {
    "execution": {
     "iopub.execute_input": "2022-04-14T08:40:11.718021Z",
     "iopub.status.busy": "2022-04-14T08:40:11.717109Z",
     "iopub.status.idle": "2022-04-14T08:40:11.724360Z",
     "shell.execute_reply": "2022-04-14T08:40:11.725599Z",
     "shell.execute_reply.started": "2022-04-14T08:32:04.084467Z"
    },
    "papermill": {
     "duration": 0.055904,
     "end_time": "2022-04-14T08:40:11.725919",
     "exception": false,
     "start_time": "2022-04-14T08:40:11.670015",
     "status": "completed"
    },
    "tags": []
   },
   "outputs": [
    {
     "name": "stdout",
     "output_type": "stream",
     "text": [
      "Model: \"sequential\"\n",
      "_________________________________________________________________\n",
      "Layer (type)                 Output Shape              Param #   \n",
      "=================================================================\n",
      "dense (Dense)                (None, 160)               9280      \n",
      "_________________________________________________________________\n",
      "dense_1 (Dense)              (None, 60)                9660      \n",
      "_________________________________________________________________\n",
      "dense_2 (Dense)              (None, 20)                1220      \n",
      "_________________________________________________________________\n",
      "dense_3 (Dense)              (None, 1)                 21        \n",
      "=================================================================\n",
      "Total params: 20,181\n",
      "Trainable params: 20,181\n",
      "Non-trainable params: 0\n",
      "_________________________________________________________________\n"
     ]
    }
   ],
   "source": [
    "model.summary()"
   ]
  },
  {
   "cell_type": "code",
   "execution_count": 31,
   "id": "74cff2b2",
   "metadata": {
    "execution": {
     "iopub.execute_input": "2022-04-14T08:40:11.819787Z",
     "iopub.status.busy": "2022-04-14T08:40:11.819180Z",
     "iopub.status.idle": "2022-04-14T08:41:34.424490Z",
     "shell.execute_reply": "2022-04-14T08:41:34.423968Z",
     "shell.execute_reply.started": "2022-04-14T08:32:04.095625Z"
    },
    "papermill": {
     "duration": 82.653346,
     "end_time": "2022-04-14T08:41:34.424679",
     "exception": false,
     "start_time": "2022-04-14T08:40:11.771333",
     "status": "completed"
    },
    "tags": []
   },
   "outputs": [
    {
     "name": "stderr",
     "output_type": "stream",
     "text": [
      "2022-04-14 08:40:11.928298: I tensorflow/compiler/mlir/mlir_graph_optimization_pass.cc:185] None of the MLIR Optimization Passes are enabled (registered 2)\n"
     ]
    },
    {
     "name": "stdout",
     "output_type": "stream",
     "text": [
      "Epoch 1/50\n",
      "340/340 [==============================] - 2s 3ms/step - loss: 729.3010 - mae: 729.3010 - val_loss: 634.7486 - val_mae: 634.7486\n",
      "Epoch 2/50\n",
      "340/340 [==============================] - 1s 3ms/step - loss: 571.0247 - mae: 571.0247 - val_loss: 541.8120 - val_mae: 541.8120\n",
      "Epoch 3/50\n",
      "340/340 [==============================] - 1s 3ms/step - loss: 438.0265 - mae: 438.0265 - val_loss: 453.7706 - val_mae: 453.7706\n",
      "Epoch 4/50\n",
      "340/340 [==============================] - 1s 3ms/step - loss: 370.2426 - mae: 370.2426 - val_loss: 416.0319 - val_mae: 416.0319\n",
      "Epoch 5/50\n",
      "340/340 [==============================] - 1s 3ms/step - loss: 322.9935 - mae: 322.9935 - val_loss: 348.4274 - val_mae: 348.4274\n",
      "Epoch 6/50\n",
      "340/340 [==============================] - 1s 2ms/step - loss: 291.1433 - mae: 291.1433 - val_loss: 329.5278 - val_mae: 329.5278\n",
      "Epoch 7/50\n",
      "340/340 [==============================] - 1s 3ms/step - loss: 267.9867 - mae: 267.9867 - val_loss: 287.6645 - val_mae: 287.6645\n",
      "Epoch 8/50\n",
      "340/340 [==============================] - 1s 2ms/step - loss: 246.4488 - mae: 246.4488 - val_loss: 263.8131 - val_mae: 263.8131\n",
      "Epoch 9/50\n",
      "340/340 [==============================] - 1s 3ms/step - loss: 227.7909 - mae: 227.7909 - val_loss: 255.9655 - val_mae: 255.9655\n",
      "Epoch 10/50\n",
      "340/340 [==============================] - 1s 3ms/step - loss: 215.6662 - mae: 215.6662 - val_loss: 250.8458 - val_mae: 250.8458\n",
      "Epoch 11/50\n",
      "340/340 [==============================] - 1s 3ms/step - loss: 206.5864 - mae: 206.5864 - val_loss: 218.1540 - val_mae: 218.1540\n",
      "Epoch 12/50\n",
      "340/340 [==============================] - 1s 2ms/step - loss: 196.6673 - mae: 196.6673 - val_loss: 227.3409 - val_mae: 227.3409\n",
      "Epoch 13/50\n",
      "340/340 [==============================] - 1s 2ms/step - loss: 190.7089 - mae: 190.7089 - val_loss: 224.1961 - val_mae: 224.1961\n",
      "Epoch 14/50\n",
      "340/340 [==============================] - 1s 2ms/step - loss: 183.6376 - mae: 183.6376 - val_loss: 203.8432 - val_mae: 203.8432\n",
      "Epoch 15/50\n",
      "340/340 [==============================] - 1s 3ms/step - loss: 180.5679 - mae: 180.5679 - val_loss: 234.4924 - val_mae: 234.4924\n",
      "Epoch 16/50\n",
      "340/340 [==============================] - 1s 3ms/step - loss: 175.6033 - mae: 175.6033 - val_loss: 193.2499 - val_mae: 193.2499\n",
      "Epoch 17/50\n",
      "340/340 [==============================] - 1s 3ms/step - loss: 169.7130 - mae: 169.7130 - val_loss: 190.8943 - val_mae: 190.8943\n",
      "Epoch 18/50\n",
      "340/340 [==============================] - 1s 3ms/step - loss: 164.8931 - mae: 164.8931 - val_loss: 198.3809 - val_mae: 198.3809\n",
      "Epoch 19/50\n",
      "340/340 [==============================] - 1s 3ms/step - loss: 159.5666 - mae: 159.5666 - val_loss: 176.3840 - val_mae: 176.3840\n",
      "Epoch 20/50\n",
      "340/340 [==============================] - 1s 3ms/step - loss: 157.3927 - mae: 157.3927 - val_loss: 174.3893 - val_mae: 174.3893\n",
      "Epoch 21/50\n",
      "340/340 [==============================] - 1s 3ms/step - loss: 153.2903 - mae: 153.2903 - val_loss: 202.4400 - val_mae: 202.4400\n",
      "Epoch 22/50\n",
      "340/340 [==============================] - 1s 3ms/step - loss: 152.1346 - mae: 152.1346 - val_loss: 168.2154 - val_mae: 168.2154\n",
      "Epoch 23/50\n",
      "340/340 [==============================] - 1s 3ms/step - loss: 148.2195 - mae: 148.2195 - val_loss: 175.3315 - val_mae: 175.3315\n",
      "Epoch 24/50\n",
      "340/340 [==============================] - 1s 2ms/step - loss: 145.4519 - mae: 145.4519 - val_loss: 185.0426 - val_mae: 185.0426\n",
      "Epoch 25/50\n",
      "340/340 [==============================] - 1s 2ms/step - loss: 140.8330 - mae: 140.8330 - val_loss: 172.1097 - val_mae: 172.1097\n",
      "Epoch 26/50\n",
      "340/340 [==============================] - 1s 2ms/step - loss: 140.1653 - mae: 140.1653 - val_loss: 167.2180 - val_mae: 167.2180\n",
      "Epoch 27/50\n",
      "340/340 [==============================] - 1s 3ms/step - loss: 138.3753 - mae: 138.3753 - val_loss: 158.9132 - val_mae: 158.9132\n",
      "Epoch 28/50\n",
      "340/340 [==============================] - 1s 3ms/step - loss: 136.1565 - mae: 136.1565 - val_loss: 181.5461 - val_mae: 181.5461\n",
      "Epoch 29/50\n",
      "340/340 [==============================] - 1s 2ms/step - loss: 135.8826 - mae: 135.8826 - val_loss: 164.1370 - val_mae: 164.1370\n",
      "Epoch 30/50\n",
      "340/340 [==============================] - 1s 2ms/step - loss: 133.4461 - mae: 133.4461 - val_loss: 161.9568 - val_mae: 161.9568\n",
      "Epoch 31/50\n",
      "340/340 [==============================] - 1s 3ms/step - loss: 130.3425 - mae: 130.3425 - val_loss: 171.0530 - val_mae: 171.0530\n",
      "Epoch 32/50\n",
      "340/340 [==============================] - 1s 3ms/step - loss: 130.2852 - mae: 130.2852 - val_loss: 151.9227 - val_mae: 151.9227\n",
      "Epoch 33/50\n",
      "340/340 [==============================] - 1s 3ms/step - loss: 128.5895 - mae: 128.5895 - val_loss: 153.5221 - val_mae: 153.5221\n",
      "Epoch 34/50\n",
      "340/340 [==============================] - 1s 3ms/step - loss: 129.1427 - mae: 129.1427 - val_loss: 166.3016 - val_mae: 166.3016\n",
      "Epoch 35/50\n",
      "340/340 [==============================] - 1s 2ms/step - loss: 128.4189 - mae: 128.4189 - val_loss: 153.8504 - val_mae: 153.8504\n",
      "Epoch 36/50\n",
      "340/340 [==============================] - 1s 3ms/step - loss: 126.8805 - mae: 126.8805 - val_loss: 166.8521 - val_mae: 166.8521\n",
      "Epoch 37/50\n",
      "340/340 [==============================] - 1s 3ms/step - loss: 125.2835 - mae: 125.2835 - val_loss: 157.3345 - val_mae: 157.3345\n",
      "Epoch 38/50\n",
      "340/340 [==============================] - 1s 3ms/step - loss: 126.0897 - mae: 126.0897 - val_loss: 176.5971 - val_mae: 176.5971\n",
      "Epoch 39/50\n",
      "340/340 [==============================] - 1s 3ms/step - loss: 125.1609 - mae: 125.1609 - val_loss: 156.6144 - val_mae: 156.6144\n",
      "Epoch 40/50\n",
      "340/340 [==============================] - 1s 2ms/step - loss: 126.9469 - mae: 126.9469 - val_loss: 153.6340 - val_mae: 153.6340\n",
      "Epoch 41/50\n",
      "340/340 [==============================] - 1s 3ms/step - loss: 123.9497 - mae: 123.9497 - val_loss: 160.7001 - val_mae: 160.7001\n",
      "Epoch 42/50\n",
      "340/340 [==============================] - 1s 3ms/step - loss: 124.2239 - mae: 124.2239 - val_loss: 163.4237 - val_mae: 163.4237\n",
      "Epoch 43/50\n",
      "340/340 [==============================] - 1s 3ms/step - loss: 123.4861 - mae: 123.4861 - val_loss: 146.8392 - val_mae: 146.8392\n",
      "Epoch 44/50\n",
      "340/340 [==============================] - 1s 3ms/step - loss: 124.0376 - mae: 124.0376 - val_loss: 146.1137 - val_mae: 146.1137\n",
      "Epoch 45/50\n",
      "340/340 [==============================] - 1s 3ms/step - loss: 123.4678 - mae: 123.4678 - val_loss: 149.8890 - val_mae: 149.8890\n",
      "Epoch 46/50\n",
      "340/340 [==============================] - 1s 3ms/step - loss: 122.0320 - mae: 122.0320 - val_loss: 153.8988 - val_mae: 153.8988\n",
      "Epoch 47/50\n",
      "340/340 [==============================] - 1s 3ms/step - loss: 122.7479 - mae: 122.7479 - val_loss: 158.9430 - val_mae: 158.9430\n",
      "Epoch 48/50\n",
      "340/340 [==============================] - 1s 3ms/step - loss: 119.5319 - mae: 119.5319 - val_loss: 153.1982 - val_mae: 153.1982\n",
      "Epoch 49/50\n",
      "340/340 [==============================] - 1s 3ms/step - loss: 121.2001 - mae: 121.2001 - val_loss: 146.2586 - val_mae: 146.2586\n",
      "Epoch 50/50\n",
      "340/340 [==============================] - 1s 3ms/step - loss: 118.7448 - mae: 118.7448 - val_loss: 147.0439 - val_mae: 147.0439\n"
     ]
    }
   ],
   "source": [
    "model.compile(loss='mae', optimizer='adam', metrics=['mae'])\n",
    "early_stopping = EarlyStopping(monitor='loss', patience=5, mode = 'min') #loss가 5번 올라가면 거기서 멈추라는 명령\n",
    "history = model.fit(x_train, y_train, epochs=50, validation_split=0.1, callbacks=[early_stopping])#학습한 모형 넣어주기"
   ]
  },
  {
   "cell_type": "code",
   "execution_count": 32,
   "id": "6a404794",
   "metadata": {
    "execution": {
     "iopub.execute_input": "2022-04-14T08:41:35.006856Z",
     "iopub.status.busy": "2022-04-14T08:41:35.006227Z",
     "iopub.status.idle": "2022-04-14T08:41:35.211034Z",
     "shell.execute_reply": "2022-04-14T08:41:35.210431Z",
     "shell.execute_reply.started": "2022-04-14T08:32:52.717290Z"
    },
    "papermill": {
     "duration": 0.493786,
     "end_time": "2022-04-14T08:41:35.211169",
     "exception": false,
     "start_time": "2022-04-14T08:41:34.717383",
     "status": "completed"
    },
    "tags": []
   },
   "outputs": [
    {
     "data": {
      "image/png": "[encoded data removed]",
      "text/plain": [
       "<Figure size 432x288 with 1 Axes>"
      ]
     },
     "metadata": {
      "needs_background": "light"
     },
     "output_type": "display_data"
    }
   ],
   "source": [
    "plt.plot(history.history['val_loss'])\n",
    "plt.plot(history.history['loss'])\n",
    "plt.title('loss')\n",
    "plt.xlabel('Epochs')\n",
    "plt.ylabel('loss')\n",
    "plt.legend(['val_loss','loss'])\n",
    "plt.show()"
   ]
  },
  {
   "cell_type": "code",
   "execution_count": 33,
   "id": "a27ce1a2",
   "metadata": {
    "execution": {
     "iopub.execute_input": "2022-04-14T08:41:35.807758Z",
     "iopub.status.busy": "2022-04-14T08:41:35.807117Z",
     "iopub.status.idle": "2022-04-14T08:41:36.127056Z",
     "shell.execute_reply": "2022-04-14T08:41:36.126440Z",
     "shell.execute_reply.started": "2022-04-14T08:32:52.878723Z"
    },
    "papermill": {
     "duration": 0.621236,
     "end_time": "2022-04-14T08:41:36.127207",
     "exception": false,
     "start_time": "2022-04-14T08:41:35.505971",
     "status": "completed"
    },
    "tags": []
   },
   "outputs": [],
   "source": [
    "y_predict = model.predict(x_test)"
   ]
  },
  {
   "cell_type": "code",
   "execution_count": 34,
   "id": "bcf5e664",
   "metadata": {
    "execution": {
     "iopub.execute_input": "2022-04-14T08:41:36.724392Z",
     "iopub.status.busy": "2022-04-14T08:41:36.723706Z",
     "iopub.status.idle": "2022-04-14T08:41:36.726734Z",
     "shell.execute_reply": "2022-04-14T08:41:36.727398Z",
     "shell.execute_reply.started": "2022-04-14T08:32:53.157634Z"
    },
    "papermill": {
     "duration": 0.305767,
     "end_time": "2022-04-14T08:41:36.727650",
     "exception": false,
     "start_time": "2022-04-14T08:41:36.421883",
     "status": "completed"
    },
    "tags": []
   },
   "outputs": [
    {
     "name": "stdout",
     "output_type": "stream",
     "text": [
      "RMSE:  276.1977879216921\n"
     ]
    }
   ],
   "source": [
    "from sklearn.metrics import mean_squared_error\n",
    "\n",
    "def RMSE(y_test, y_predict):\n",
    "    return np.sqrt(mean_squared_error(y_test,y_predict))\n",
    "print(\"RMSE: \",RMSE(y_test, y_predict))"
   ]
  },
  {
   "cell_type": "code",
   "execution_count": 35,
   "id": "f86ad36d",
   "metadata": {
    "execution": {
     "iopub.execute_input": "2022-04-14T08:41:37.317392Z",
     "iopub.status.busy": "2022-04-14T08:41:37.316771Z",
     "iopub.status.idle": "2022-04-14T08:41:46.508625Z",
     "shell.execute_reply": "2022-04-14T08:41:46.509131Z",
     "shell.execute_reply.started": "2022-04-14T08:32:53.165084Z"
    },
    "papermill": {
     "duration": 9.485587,
     "end_time": "2022-04-14T08:41:46.509295",
     "exception": false,
     "start_time": "2022-04-14T08:41:37.023708",
     "status": "completed"
    },
    "tags": []
   },
   "outputs": [
    {
     "name": "stdout",
     "output_type": "stream",
     "text": [
      "RMSE:  303.6417775662534\n"
     ]
    }
   ],
   "source": [
    "from sklearn.ensemble import RandomForestRegressor\n",
    "rf = RandomForestRegressor(n_estimators=100, random_state=16)\n",
    "rf.fit(x_train, y_train)\n",
    "rf_result = rf.predict(x_test)\n",
    "print(\"RMSE: \",RMSE(y_test, rf_result))"
   ]
  },
  {
   "cell_type": "code",
   "execution_count": 36,
   "id": "35f66591",
   "metadata": {
    "execution": {
     "iopub.execute_input": "2022-04-14T08:41:47.098264Z",
     "iopub.status.busy": "2022-04-14T08:41:47.097677Z",
     "iopub.status.idle": "2022-04-14T08:41:49.165499Z",
     "shell.execute_reply": "2022-04-14T08:41:49.166392Z",
     "shell.execute_reply.started": "2022-04-14T08:33:02.242373Z"
    },
    "papermill": {
     "duration": 2.365595,
     "end_time": "2022-04-14T08:41:49.166684",
     "exception": false,
     "start_time": "2022-04-14T08:41:46.801089",
     "status": "completed"
    },
    "tags": []
   },
   "outputs": [
    {
     "name": "stdout",
     "output_type": "stream",
     "text": [
      "RMSE =  307.09072320247844\n"
     ]
    }
   ],
   "source": [
    "from xgboost import XGBRegressor\n",
    "xgb = XGBRegressor(n_estimators=100, random_state=16)\n",
    "xgb.fit(x_train, y_train)\n",
    "xgb_result = xgb.predict(x_test)\n",
    "print(\"RMSE = \", RMSE(y_test,xgb_result ))"
   ]
  },
  {
   "cell_type": "code",
   "execution_count": 37,
   "id": "012cd962",
   "metadata": {
    "execution": {
     "iopub.execute_input": "2022-04-14T08:41:49.743707Z",
     "iopub.status.busy": "2022-04-14T08:41:49.743126Z",
     "iopub.status.idle": "2022-04-14T08:41:50.843247Z",
     "shell.execute_reply": "2022-04-14T08:41:50.842059Z",
     "shell.execute_reply.started": "2022-04-14T08:33:04.142011Z"
    },
    "papermill": {
     "duration": 1.385971,
     "end_time": "2022-04-14T08:41:50.843434",
     "exception": false,
     "start_time": "2022-04-14T08:41:49.457463",
     "status": "completed"
    },
    "tags": []
   },
   "outputs": [
    {
     "data": {
      "text/html": [
       "<style type='text/css'>\n",
       ".datatable table.frame { margin-bottom: 0; }\n",
       ".datatable table.frame thead { border-bottom: none; }\n",
       ".datatable table.frame tr.coltypes td {  color: #FFFFFF;  line-height: 6px;  padding: 0 0.5em;}\n",
       ".datatable .bool    { background: #DDDD99; }\n",
       ".datatable .object  { background: #565656; }\n",
       ".datatable .int     { background: #5D9E5D; }\n",
       ".datatable .float   { background: #4040CC; }\n",
       ".datatable .str     { background: #CC4040; }\n",
       ".datatable .time    { background: #40CC40; }\n",
       ".datatable .row_index {  background: var(--jp-border-color3);  border-right: 1px solid var(--jp-border-color0);  color: var(--jp-ui-font-color3);  font-size: 9px;}\n",
       ".datatable .frame tbody td { text-align: left; }\n",
       ".datatable .frame tr.coltypes .row_index {  background: var(--jp-border-color0);}\n",
       ".datatable th:nth-child(2) { padding-left: 12px; }\n",
       ".datatable .hellipsis {  color: var(--jp-cell-editor-border-color);}\n",
       ".datatable .vellipsis {  background: var(--jp-layout-color0);  color: var(--jp-cell-editor-border-color);}\n",
       ".datatable .na {  color: var(--jp-cell-editor-border-color);  font-size: 80%;}\n",
       ".datatable .sp {  opacity: 0.25;}\n",
       ".datatable .footer { font-size: 9px; }\n",
       ".datatable .frame_dimensions {  background: var(--jp-border-color3);  border-top: 1px solid var(--jp-border-color0);  color: var(--jp-ui-font-color3);  display: inline-block;  opacity: 0.6;  padding: 1px 10px 1px 5px;}\n",
       "</style>\n"
      ],
      "text/plain": [
       "<IPython.core.display.HTML object>"
      ]
     },
     "metadata": {},
     "output_type": "display_data"
    },
    {
     "name": "stdout",
     "output_type": "stream",
     "text": [
      "RMSE =  323.2746495922864\n"
     ]
    }
   ],
   "source": [
    "from lightgbm import LGBMRegressor\n",
    "lgb = LGBMRegressor(n_estimators=100, random_state=16)\n",
    "lgb.fit(x_train, y_train)\n",
    "lgb_result = lgb.predict(x_test)\n",
    "print(\"RMSE = \", RMSE(y_test,lgb_result ))\n"
   ]
  },
  {
   "cell_type": "code",
   "execution_count": 38,
   "id": "e8900919",
   "metadata": {
    "execution": {
     "iopub.execute_input": "2022-04-14T08:41:51.436864Z",
     "iopub.status.busy": "2022-04-14T08:41:51.436145Z",
     "iopub.status.idle": "2022-04-14T08:41:51.441043Z",
     "shell.execute_reply": "2022-04-14T08:41:51.440583Z",
     "shell.execute_reply.started": "2022-04-14T08:33:04.337072Z"
    },
    "papermill": {
     "duration": 0.302152,
     "end_time": "2022-04-14T08:41:51.441182",
     "exception": false,
     "start_time": "2022-04-14T08:41:51.139030",
     "status": "completed"
    },
    "tags": []
   },
   "outputs": [],
   "source": [
    "xgb = pd.DataFrame(xgb_result) #xgboost\n",
    "rf = pd.DataFrame(rf_result) #randomForest\n",
    "dnn = pd.DataFrame(y_predict)#딥러닝\n",
    "lgb = pd.DataFrame(lgb_result)\n",
    "compare = pd.DataFrame(y_test).reset_index(drop=True)"
   ]
  },
  {
   "cell_type": "code",
   "execution_count": 39,
   "id": "86e9ece7",
   "metadata": {
    "execution": {
     "iopub.execute_input": "2022-04-14T08:41:52.022146Z",
     "iopub.status.busy": "2022-04-14T08:41:52.021478Z",
     "iopub.status.idle": "2022-04-14T08:41:52.034635Z",
     "shell.execute_reply": "2022-04-14T08:41:52.035088Z",
     "shell.execute_reply.started": "2022-04-14T08:33:04.348314Z"
    },
    "papermill": {
     "duration": 0.305988,
     "end_time": "2022-04-14T08:41:52.035260",
     "exception": false,
     "start_time": "2022-04-14T08:41:51.729272",
     "status": "completed"
    },
    "tags": []
   },
   "outputs": [
    {
     "data": {
      "text/html": [
       "<div>\n",
       "<style scoped>\n",
       "    .dataframe tbody tr th:only-of-type {\n",
       "        vertical-align: middle;\n",
       "    }\n",
       "\n",
       "    .dataframe tbody tr th {\n",
       "        vertical-align: top;\n",
       "    }\n",
       "\n",
       "    .dataframe thead th {\n",
       "        text-align: right;\n",
       "    }\n",
       "</style>\n",
       "<table border=\"1\" class=\"dataframe\">\n",
       "  <thead>\n",
       "    <tr style=\"text-align: right;\">\n",
       "      <th></th>\n",
       "      <th>cnt</th>\n",
       "      <th>xgb</th>\n",
       "      <th>rf</th>\n",
       "      <th>dnn</th>\n",
       "      <th>lgb</th>\n",
       "    </tr>\n",
       "  </thead>\n",
       "  <tbody>\n",
       "    <tr>\n",
       "      <th>0</th>\n",
       "      <td>1885</td>\n",
       "      <td>1803.070923</td>\n",
       "      <td>1700.24</td>\n",
       "      <td>1988.498047</td>\n",
       "      <td>1830.345197</td>\n",
       "    </tr>\n",
       "    <tr>\n",
       "      <th>1</th>\n",
       "      <td>2175</td>\n",
       "      <td>2228.828125</td>\n",
       "      <td>1803.82</td>\n",
       "      <td>2286.712646</td>\n",
       "      <td>2133.296789</td>\n",
       "    </tr>\n",
       "    <tr>\n",
       "      <th>2</th>\n",
       "      <td>2485</td>\n",
       "      <td>2598.814697</td>\n",
       "      <td>2191.37</td>\n",
       "      <td>2544.085449</td>\n",
       "      <td>2590.899050</td>\n",
       "    </tr>\n",
       "    <tr>\n",
       "      <th>3</th>\n",
       "      <td>2882</td>\n",
       "      <td>2683.149658</td>\n",
       "      <td>2206.67</td>\n",
       "      <td>2551.837158</td>\n",
       "      <td>2613.783086</td>\n",
       "    </tr>\n",
       "    <tr>\n",
       "      <th>4</th>\n",
       "      <td>2965</td>\n",
       "      <td>2590.693848</td>\n",
       "      <td>2276.35</td>\n",
       "      <td>2432.231934</td>\n",
       "      <td>2306.341169</td>\n",
       "    </tr>\n",
       "  </tbody>\n",
       "</table>\n",
       "</div>"
      ],
      "text/plain": [
       "    cnt          xgb       rf          dnn          lgb\n",
       "0  1885  1803.070923  1700.24  1988.498047  1830.345197\n",
       "1  2175  2228.828125  1803.82  2286.712646  2133.296789\n",
       "2  2485  2598.814697  2191.37  2544.085449  2590.899050\n",
       "3  2882  2683.149658  2206.67  2551.837158  2613.783086\n",
       "4  2965  2590.693848  2276.35  2432.231934  2306.341169"
      ]
     },
     "execution_count": 39,
     "metadata": {},
     "output_type": "execute_result"
    }
   ],
   "source": [
    "compare['xgb'] = xgb\n",
    "compare['rf'] = rf\n",
    "compare['dnn'] = dnn\n",
    "compare['lgb'] = lgb\n",
    "compare.head()"
   ]
  },
  {
   "cell_type": "code",
   "execution_count": 40,
   "id": "ce6fe08d",
   "metadata": {
    "execution": {
     "iopub.execute_input": "2022-04-14T08:41:52.621642Z",
     "iopub.status.busy": "2022-04-14T08:41:52.621057Z",
     "iopub.status.idle": "2022-04-14T08:41:52.986789Z",
     "shell.execute_reply": "2022-04-14T08:41:52.986148Z",
     "shell.execute_reply.started": "2022-04-14T08:38:46.438693Z"
    },
    "papermill": {
     "duration": 0.65621,
     "end_time": "2022-04-14T08:41:52.986933",
     "exception": false,
     "start_time": "2022-04-14T08:41:52.330723",
     "status": "completed"
    },
    "tags": []
   },
   "outputs": [
    {
     "data": {
      "text/plain": [
       "<AxesSubplot:xlabel='cnt', ylabel='Density'>"
      ]
     },
     "execution_count": 40,
     "metadata": {},
     "output_type": "execute_result"
    },
    {
     "data": {
      "image/png": "[encoded data removed]",
      "text/plain": [
       "<Figure size 432x288 with 1 Axes>"
      ]
     },
     "metadata": {
      "needs_background": "light"
     },
     "output_type": "display_data"
    }
   ],
   "source": [
    "sns.kdeplot(compare['cnt'],shade = True, color='r')\n",
    "sns.kdeplot(compare['xgb'],shade = True, color='b')\n",
    "sns.kdeplot(compare['rf'],shade = True, color='y')\n",
    "sns.kdeplot(compare['dnn'],shade = True, color='g')\n",
    "sns.kdeplot(compare['lgb'],shade = True, color='k')"
   ]
  },
  {
   "cell_type": "code",
   "execution_count": null,
   "id": "b21d25fb",
   "metadata": {
    "papermill": {
     "duration": 0.29207,
     "end_time": "2022-04-14T08:41:53.576468",
     "exception": false,
     "start_time": "2022-04-14T08:41:53.284398",
     "status": "completed"
    },
    "tags": []
   },
   "outputs": [],
   "source": []
  }
 ],
 "metadata": {
  "kernelspec": {
   "display_name": "Python 3",
   "language": "python",
   "name": "python3"
  },
  "language_info": {
   "codemirror_mode": {
    "name": "ipython",
    "version": 3
   },
   "file_extension": ".py",
   "mimetype": "text/x-python",
   "name": "python",
   "nbconvert_exporter": "python",
   "pygments_lexer": "ipython3",
   "version": "3.7.12"
  },
  "papermill": {
   "default_parameters": {},
   "duration": 128.748264,
   "end_time": "2022-04-14T08:41:57.130453",
   "environment_variables": {},
   "exception": null,
   "input_path": "__notebook__.ipynb",
   "output_path": "__notebook__.ipynb",
   "parameters": {},
   "start_time": "2022-04-14T08:39:48.382189",
   "version": "2.3.3"
  }
 },
 "nbformat": 4,
 "nbformat_minor": 5
}
