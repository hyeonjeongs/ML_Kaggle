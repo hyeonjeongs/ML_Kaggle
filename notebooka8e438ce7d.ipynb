{
 "cells": [
  {
   "cell_type": "code",
   "execution_count": 1,
   "id": "a0b4eaa9",
   "metadata": {
    "_cell_guid": "b1076dfc-b9ad-4769-8c92-a6c4dae69d19",
    "_uuid": "8f2839f25d086af736a60e9eeb907d3b93b6e0e5",
    "execution": {
     "iopub.execute_input": "2022-03-31T14:52:38.902097Z",
     "iopub.status.busy": "2022-03-31T14:52:38.900448Z",
     "iopub.status.idle": "2022-03-31T14:52:38.921902Z",
     "shell.execute_reply": "2022-03-31T14:52:38.922550Z",
     "shell.execute_reply.started": "2022-03-31T13:16:26.192248Z"
    },
    "papermill": {
     "duration": 0.042933,
     "end_time": "2022-03-31T14:52:38.922931",
     "exception": false,
     "start_time": "2022-03-31T14:52:38.879998",
     "status": "completed"
    },
    "tags": []
   },
   "outputs": [
    {
     "name": "stdout",
     "output_type": "stream",
     "text": [
      "/kaggle/input/london-bike-sharing-dataset/london_merged.csv\n"
     ]
    }
   ],
   "source": [
    "# This Python 3 environment comes with many helpful analytics libraries installed\n",
    "# It is defined by the kaggle/python Docker image: https://github.com/kaggle/docker-python\n",
    "# For example, here's several helpful packages to load\n",
    "\n",
    "import numpy as np # linear algebra\n",
    "import pandas as pd # data processing, CSV file I/O (e.g. pd.read_csv)\n",
    "\n",
    "# Input data files are available in the read-only \"../input/\" directory\n",
    "# For example, running this (by clicking run or pressing Shift+Enter) will list all files under the input directory\n",
    "\n",
    "import os\n",
    "for dirname, _, filenames in os.walk('/kaggle/input'):\n",
    "    for filename in filenames:\n",
    "        print(os.path.join(dirname, filename))\n",
    "\n",
    "# You can write up to 20GB to the current directory (/kaggle/working/) that gets preserved as output when you create a version using \"Save & Run All\" \n",
    "# You can also write temporary files to /kaggle/temp/, but they won't be saved outside of the current session"
   ]
  },
  {
   "cell_type": "code",
   "execution_count": 2,
   "id": "b0e941e2",
   "metadata": {
    "execution": {
     "iopub.execute_input": "2022-03-31T14:52:38.965442Z",
     "iopub.status.busy": "2022-03-31T14:52:38.964350Z",
     "iopub.status.idle": "2022-03-31T14:52:39.941101Z",
     "shell.execute_reply": "2022-03-31T14:52:39.941646Z",
     "shell.execute_reply.started": "2022-03-31T13:16:26.272967Z"
    },
    "papermill": {
     "duration": 0.999817,
     "end_time": "2022-03-31T14:52:39.941824",
     "exception": false,
     "start_time": "2022-03-31T14:52:38.942007",
     "status": "completed"
    },
    "tags": []
   },
   "outputs": [],
   "source": [
    "import matplotlib.pyplot as plt #그래프 모듈\n",
    "import seaborn as sns\n",
    "import missingno as msno"
   ]
  },
  {
   "cell_type": "code",
   "execution_count": 3,
   "id": "1550d1d7",
   "metadata": {
    "execution": {
     "iopub.execute_input": "2022-03-31T14:52:39.970034Z",
     "iopub.status.busy": "2022-03-31T14:52:39.969435Z",
     "iopub.status.idle": "2022-03-31T14:52:40.041250Z",
     "shell.execute_reply": "2022-03-31T14:52:40.041715Z",
     "shell.execute_reply.started": "2022-03-31T13:16:26.355257Z"
    },
    "papermill": {
     "duration": 0.087591,
     "end_time": "2022-03-31T14:52:40.041876",
     "exception": false,
     "start_time": "2022-03-31T14:52:39.954285",
     "status": "completed"
    },
    "tags": []
   },
   "outputs": [
    {
     "data": {
      "text/html": [
       "<div>\n",
       "<style scoped>\n",
       "    .dataframe tbody tr th:only-of-type {\n",
       "        vertical-align: middle;\n",
       "    }\n",
       "\n",
       "    .dataframe tbody tr th {\n",
       "        vertical-align: top;\n",
       "    }\n",
       "\n",
       "    .dataframe thead th {\n",
       "        text-align: right;\n",
       "    }\n",
       "</style>\n",
       "<table border=\"1\" class=\"dataframe\">\n",
       "  <thead>\n",
       "    <tr style=\"text-align: right;\">\n",
       "      <th></th>\n",
       "      <th>timestamp</th>\n",
       "      <th>cnt</th>\n",
       "      <th>t1</th>\n",
       "      <th>t2</th>\n",
       "      <th>hum</th>\n",
       "      <th>wind_speed</th>\n",
       "      <th>weather_code</th>\n",
       "      <th>is_holiday</th>\n",
       "      <th>is_weekend</th>\n",
       "      <th>season</th>\n",
       "    </tr>\n",
       "  </thead>\n",
       "  <tbody>\n",
       "    <tr>\n",
       "      <th>0</th>\n",
       "      <td>2015-01-04 00:00:00</td>\n",
       "      <td>182</td>\n",
       "      <td>3.0</td>\n",
       "      <td>2.0</td>\n",
       "      <td>93.0</td>\n",
       "      <td>6.0</td>\n",
       "      <td>3.0</td>\n",
       "      <td>0.0</td>\n",
       "      <td>1.0</td>\n",
       "      <td>3.0</td>\n",
       "    </tr>\n",
       "    <tr>\n",
       "      <th>1</th>\n",
       "      <td>2015-01-04 01:00:00</td>\n",
       "      <td>138</td>\n",
       "      <td>3.0</td>\n",
       "      <td>2.5</td>\n",
       "      <td>93.0</td>\n",
       "      <td>5.0</td>\n",
       "      <td>1.0</td>\n",
       "      <td>0.0</td>\n",
       "      <td>1.0</td>\n",
       "      <td>3.0</td>\n",
       "    </tr>\n",
       "    <tr>\n",
       "      <th>2</th>\n",
       "      <td>2015-01-04 02:00:00</td>\n",
       "      <td>134</td>\n",
       "      <td>2.5</td>\n",
       "      <td>2.5</td>\n",
       "      <td>96.5</td>\n",
       "      <td>0.0</td>\n",
       "      <td>1.0</td>\n",
       "      <td>0.0</td>\n",
       "      <td>1.0</td>\n",
       "      <td>3.0</td>\n",
       "    </tr>\n",
       "    <tr>\n",
       "      <th>3</th>\n",
       "      <td>2015-01-04 03:00:00</td>\n",
       "      <td>72</td>\n",
       "      <td>2.0</td>\n",
       "      <td>2.0</td>\n",
       "      <td>100.0</td>\n",
       "      <td>0.0</td>\n",
       "      <td>1.0</td>\n",
       "      <td>0.0</td>\n",
       "      <td>1.0</td>\n",
       "      <td>3.0</td>\n",
       "    </tr>\n",
       "    <tr>\n",
       "      <th>4</th>\n",
       "      <td>2015-01-04 04:00:00</td>\n",
       "      <td>47</td>\n",
       "      <td>2.0</td>\n",
       "      <td>0.0</td>\n",
       "      <td>93.0</td>\n",
       "      <td>6.5</td>\n",
       "      <td>1.0</td>\n",
       "      <td>0.0</td>\n",
       "      <td>1.0</td>\n",
       "      <td>3.0</td>\n",
       "    </tr>\n",
       "  </tbody>\n",
       "</table>\n",
       "</div>"
      ],
      "text/plain": [
       "            timestamp  cnt   t1   t2    hum  wind_speed  weather_code  \\\n",
       "0 2015-01-04 00:00:00  182  3.0  2.0   93.0         6.0           3.0   \n",
       "1 2015-01-04 01:00:00  138  3.0  2.5   93.0         5.0           1.0   \n",
       "2 2015-01-04 02:00:00  134  2.5  2.5   96.5         0.0           1.0   \n",
       "3 2015-01-04 03:00:00   72  2.0  2.0  100.0         0.0           1.0   \n",
       "4 2015-01-04 04:00:00   47  2.0  0.0   93.0         6.5           1.0   \n",
       "\n",
       "   is_holiday  is_weekend  season  \n",
       "0         0.0         1.0     3.0  \n",
       "1         0.0         1.0     3.0  \n",
       "2         0.0         1.0     3.0  \n",
       "3         0.0         1.0     3.0  \n",
       "4         0.0         1.0     3.0  "
      ]
     },
     "execution_count": 3,
     "metadata": {},
     "output_type": "execute_result"
    }
   ],
   "source": [
    "df = pd.read_csv('/kaggle/input/london-bike-sharing-dataset/london_merged.csv',parse_dates = ['timestamp'])\n",
    "df.head()"
   ]
  },
  {
   "cell_type": "code",
   "execution_count": 4,
   "id": "1ad76b5d",
   "metadata": {
    "execution": {
     "iopub.execute_input": "2022-03-31T14:52:40.073686Z",
     "iopub.status.busy": "2022-03-31T14:52:40.072943Z",
     "iopub.status.idle": "2022-03-31T14:52:40.076055Z",
     "shell.execute_reply": "2022-03-31T14:52:40.076562Z",
     "shell.execute_reply.started": "2022-03-31T13:16:26.431275Z"
    },
    "papermill": {
     "duration": 0.022189,
     "end_time": "2022-03-31T14:52:40.076741",
     "exception": false,
     "start_time": "2022-03-31T14:52:40.054552",
     "status": "completed"
    },
    "tags": []
   },
   "outputs": [
    {
     "name": "stdout",
     "output_type": "stream",
     "text": [
      "데이터의 구조는 : (17414, 10)\n",
      "데이터의 타입은 : timestamp       datetime64[ns]\n",
      "cnt                      int64\n",
      "t1                     float64\n",
      "t2                     float64\n",
      "hum                    float64\n",
      "wind_speed             float64\n",
      "weather_code           float64\n",
      "is_holiday             float64\n",
      "is_weekend             float64\n",
      "season                 float64\n",
      "dtype: object\n",
      "데이터의 칼럼은 : Index(['timestamp', 'cnt', 't1', 't2', 'hum', 'wind_speed', 'weather_code',\n",
      "       'is_holiday', 'is_weekend', 'season'],\n",
      "      dtype='object')\n"
     ]
    }
   ],
   "source": [
    "#데이터의 타입과 구조\n",
    "\n",
    "print('데이터의 구조는 :',df.shape)\n",
    "print('데이터의 타입은 :',df.dtypes)\n",
    "print('데이터의 칼럼은 :',df.columns)"
   ]
  },
  {
   "cell_type": "code",
   "execution_count": 5,
   "id": "e7930249",
   "metadata": {
    "execution": {
     "iopub.execute_input": "2022-03-31T14:52:40.107586Z",
     "iopub.status.busy": "2022-03-31T14:52:40.106653Z",
     "iopub.status.idle": "2022-03-31T14:52:40.112947Z",
     "shell.execute_reply": "2022-03-31T14:52:40.113349Z",
     "shell.execute_reply.started": "2022-03-31T13:16:26.530076Z"
    },
    "papermill": {
     "duration": 0.024,
     "end_time": "2022-03-31T14:52:40.113512",
     "exception": false,
     "start_time": "2022-03-31T14:52:40.089512",
     "status": "completed"
    },
    "tags": []
   },
   "outputs": [
    {
     "data": {
      "text/plain": [
       "timestamp       0\n",
       "cnt             0\n",
       "t1              0\n",
       "t2              0\n",
       "hum             0\n",
       "wind_speed      0\n",
       "weather_code    0\n",
       "is_holiday      0\n",
       "is_weekend      0\n",
       "season          0\n",
       "dtype: int64"
      ]
     },
     "execution_count": 5,
     "metadata": {},
     "output_type": "execute_result"
    }
   ],
   "source": [
    "df.isna().sum()"
   ]
  },
  {
   "cell_type": "code",
   "execution_count": 6,
   "id": "4ce830a3",
   "metadata": {
    "execution": {
     "iopub.execute_input": "2022-03-31T14:52:40.143100Z",
     "iopub.status.busy": "2022-03-31T14:52:40.142213Z",
     "iopub.status.idle": "2022-03-31T14:52:40.636894Z",
     "shell.execute_reply": "2022-03-31T14:52:40.638168Z",
     "shell.execute_reply.started": "2022-03-31T13:16:26.597067Z"
    },
    "papermill": {
     "duration": 0.512015,
     "end_time": "2022-03-31T14:52:40.638530",
     "exception": false,
     "start_time": "2022-03-31T14:52:40.126515",
     "status": "completed"
    },
    "tags": []
   },
   "outputs": [
    {
     "data": {
      "image/png": "[encoded data removed]",
      "text/plain": [
       "<Figure size 1800x720 with 2 Axes>"
      ]
     },
     "metadata": {
      "needs_background": "light"
     },
     "output_type": "display_data"
    }
   ],
   "source": [
    "msno.matrix(df)\n",
    "plt.show()"
   ]
  },
  {
   "cell_type": "code",
   "execution_count": 7,
   "id": "1c310b6e",
   "metadata": {
    "execution": {
     "iopub.execute_input": "2022-03-31T14:52:40.682210Z",
     "iopub.status.busy": "2022-03-31T14:52:40.681217Z",
     "iopub.status.idle": "2022-03-31T14:52:40.715688Z",
     "shell.execute_reply": "2022-03-31T14:52:40.715228Z",
     "shell.execute_reply.started": "2022-03-31T13:16:27.110301Z"
    },
    "papermill": {
     "duration": 0.055508,
     "end_time": "2022-03-31T14:52:40.715825",
     "exception": false,
     "start_time": "2022-03-31T14:52:40.660317",
     "status": "completed"
    },
    "tags": []
   },
   "outputs": [
    {
     "data": {
      "text/html": [
       "<div>\n",
       "<style scoped>\n",
       "    .dataframe tbody tr th:only-of-type {\n",
       "        vertical-align: middle;\n",
       "    }\n",
       "\n",
       "    .dataframe tbody tr th {\n",
       "        vertical-align: top;\n",
       "    }\n",
       "\n",
       "    .dataframe thead th {\n",
       "        text-align: right;\n",
       "    }\n",
       "</style>\n",
       "<table border=\"1\" class=\"dataframe\">\n",
       "  <thead>\n",
       "    <tr style=\"text-align: right;\">\n",
       "      <th></th>\n",
       "      <th>timestamp</th>\n",
       "      <th>cnt</th>\n",
       "      <th>t1</th>\n",
       "      <th>t2</th>\n",
       "      <th>hum</th>\n",
       "      <th>wind_speed</th>\n",
       "      <th>weather_code</th>\n",
       "      <th>is_holiday</th>\n",
       "      <th>is_weekend</th>\n",
       "      <th>season</th>\n",
       "      <th>year</th>\n",
       "      <th>month</th>\n",
       "      <th>dayofweek</th>\n",
       "      <th>hour</th>\n",
       "    </tr>\n",
       "  </thead>\n",
       "  <tbody>\n",
       "    <tr>\n",
       "      <th>0</th>\n",
       "      <td>2015-01-04 00:00:00</td>\n",
       "      <td>182</td>\n",
       "      <td>3.0</td>\n",
       "      <td>2.0</td>\n",
       "      <td>93.0</td>\n",
       "      <td>6.0</td>\n",
       "      <td>3.0</td>\n",
       "      <td>0.0</td>\n",
       "      <td>1.0</td>\n",
       "      <td>3.0</td>\n",
       "      <td>2015</td>\n",
       "      <td>1</td>\n",
       "      <td>6</td>\n",
       "      <td>0</td>\n",
       "    </tr>\n",
       "    <tr>\n",
       "      <th>1</th>\n",
       "      <td>2015-01-04 01:00:00</td>\n",
       "      <td>138</td>\n",
       "      <td>3.0</td>\n",
       "      <td>2.5</td>\n",
       "      <td>93.0</td>\n",
       "      <td>5.0</td>\n",
       "      <td>1.0</td>\n",
       "      <td>0.0</td>\n",
       "      <td>1.0</td>\n",
       "      <td>3.0</td>\n",
       "      <td>2015</td>\n",
       "      <td>1</td>\n",
       "      <td>6</td>\n",
       "      <td>1</td>\n",
       "    </tr>\n",
       "    <tr>\n",
       "      <th>2</th>\n",
       "      <td>2015-01-04 02:00:00</td>\n",
       "      <td>134</td>\n",
       "      <td>2.5</td>\n",
       "      <td>2.5</td>\n",
       "      <td>96.5</td>\n",
       "      <td>0.0</td>\n",
       "      <td>1.0</td>\n",
       "      <td>0.0</td>\n",
       "      <td>1.0</td>\n",
       "      <td>3.0</td>\n",
       "      <td>2015</td>\n",
       "      <td>1</td>\n",
       "      <td>6</td>\n",
       "      <td>2</td>\n",
       "    </tr>\n",
       "    <tr>\n",
       "      <th>3</th>\n",
       "      <td>2015-01-04 03:00:00</td>\n",
       "      <td>72</td>\n",
       "      <td>2.0</td>\n",
       "      <td>2.0</td>\n",
       "      <td>100.0</td>\n",
       "      <td>0.0</td>\n",
       "      <td>1.0</td>\n",
       "      <td>0.0</td>\n",
       "      <td>1.0</td>\n",
       "      <td>3.0</td>\n",
       "      <td>2015</td>\n",
       "      <td>1</td>\n",
       "      <td>6</td>\n",
       "      <td>3</td>\n",
       "    </tr>\n",
       "    <tr>\n",
       "      <th>4</th>\n",
       "      <td>2015-01-04 04:00:00</td>\n",
       "      <td>47</td>\n",
       "      <td>2.0</td>\n",
       "      <td>0.0</td>\n",
       "      <td>93.0</td>\n",
       "      <td>6.5</td>\n",
       "      <td>1.0</td>\n",
       "      <td>0.0</td>\n",
       "      <td>1.0</td>\n",
       "      <td>3.0</td>\n",
       "      <td>2015</td>\n",
       "      <td>1</td>\n",
       "      <td>6</td>\n",
       "      <td>4</td>\n",
       "    </tr>\n",
       "  </tbody>\n",
       "</table>\n",
       "</div>"
      ],
      "text/plain": [
       "            timestamp  cnt   t1   t2    hum  wind_speed  weather_code  \\\n",
       "0 2015-01-04 00:00:00  182  3.0  2.0   93.0         6.0           3.0   \n",
       "1 2015-01-04 01:00:00  138  3.0  2.5   93.0         5.0           1.0   \n",
       "2 2015-01-04 02:00:00  134  2.5  2.5   96.5         0.0           1.0   \n",
       "3 2015-01-04 03:00:00   72  2.0  2.0  100.0         0.0           1.0   \n",
       "4 2015-01-04 04:00:00   47  2.0  0.0   93.0         6.5           1.0   \n",
       "\n",
       "   is_holiday  is_weekend  season  year  month  dayofweek  hour  \n",
       "0         0.0         1.0     3.0  2015      1          6     0  \n",
       "1         0.0         1.0     3.0  2015      1          6     1  \n",
       "2         0.0         1.0     3.0  2015      1          6     2  \n",
       "3         0.0         1.0     3.0  2015      1          6     3  \n",
       "4         0.0         1.0     3.0  2015      1          6     4  "
      ]
     },
     "execution_count": 7,
     "metadata": {},
     "output_type": "execute_result"
    }
   ],
   "source": [
    "df['year']= df['timestamp'].dt.year\n",
    "df['month']= df['timestamp'].dt.month\n",
    "df['dayofweek']= df['timestamp'].dt.dayofweek\n",
    "df['hour']= df['timestamp'].dt.hour\n",
    "df.head()"
   ]
  },
  {
   "cell_type": "code",
   "execution_count": 8,
   "id": "d97895ea",
   "metadata": {
    "execution": {
     "iopub.execute_input": "2022-03-31T14:52:40.748910Z",
     "iopub.status.busy": "2022-03-31T14:52:40.747983Z",
     "iopub.status.idle": "2022-03-31T14:52:40.757233Z",
     "shell.execute_reply": "2022-03-31T14:52:40.757721Z",
     "shell.execute_reply.started": "2022-03-31T13:16:27.144043Z"
    },
    "papermill": {
     "duration": 0.027276,
     "end_time": "2022-03-31T14:52:40.757879",
     "exception": false,
     "start_time": "2022-03-31T14:52:40.730603",
     "status": "completed"
    },
    "tags": []
   },
   "outputs": [
    {
     "data": {
      "text/plain": [
       "0    2508\n",
       "6    2505\n",
       "1    2505\n",
       "3    2492\n",
       "2    2489\n",
       "5    2465\n",
       "4    2450\n",
       "Name: dayofweek, dtype: int64"
      ]
     },
     "execution_count": 8,
     "metadata": {},
     "output_type": "execute_result"
    }
   ],
   "source": [
    "df['dayofweek'].value_counts()"
   ]
  },
  {
   "cell_type": "code",
   "execution_count": 9,
   "id": "9a463a52",
   "metadata": {
    "execution": {
     "iopub.execute_input": "2022-03-31T14:52:40.792845Z",
     "iopub.status.busy": "2022-03-31T14:52:40.791939Z",
     "iopub.status.idle": "2022-03-31T14:52:41.014336Z",
     "shell.execute_reply": "2022-03-31T14:52:41.014770Z",
     "shell.execute_reply.started": "2022-03-31T13:16:27.152551Z"
    },
    "papermill": {
     "duration": 0.241191,
     "end_time": "2022-03-31T14:52:41.014930",
     "exception": false,
     "start_time": "2022-03-31T14:52:40.773739",
     "status": "completed"
    },
    "tags": []
   },
   "outputs": [
    {
     "data": {
      "text/plain": [
       "<AxesSubplot:xlabel='year', ylabel='cnt'>"
      ]
     },
     "execution_count": 9,
     "metadata": {},
     "output_type": "execute_result"
    },
    {
     "data": {
      "image/png": "[encoded data removed]",
      "text/plain": [
       "<Figure size 720x360 with 1 Axes>"
      ]
     },
     "metadata": {
      "needs_background": "light"
     },
     "output_type": "display_data"
    }
   ],
   "source": [
    "a, b = plt.subplots(1,1,figsize=(10, 5))\n",
    "sns.boxplot(x=df['year'], y=df['cnt'])"
   ]
  },
  {
   "cell_type": "code",
   "execution_count": 10,
   "id": "135bb91f",
   "metadata": {
    "execution": {
     "iopub.execute_input": "2022-03-31T14:52:41.064015Z",
     "iopub.status.busy": "2022-03-31T14:52:41.049879Z",
     "iopub.status.idle": "2022-03-31T14:52:41.394071Z",
     "shell.execute_reply": "2022-03-31T14:52:41.394583Z",
     "shell.execute_reply.started": "2022-03-31T13:16:27.390749Z"
    },
    "papermill": {
     "duration": 0.364038,
     "end_time": "2022-03-31T14:52:41.394759",
     "exception": false,
     "start_time": "2022-03-31T14:52:41.030721",
     "status": "completed"
    },
    "tags": []
   },
   "outputs": [
    {
     "data": {
      "text/plain": [
       "<AxesSubplot:xlabel='month', ylabel='cnt'>"
      ]
     },
     "execution_count": 10,
     "metadata": {},
     "output_type": "execute_result"
    },
    {
     "data": {
      "image/png": "[encoded data removed]",
      "text/plain": [
       "<Figure size 720x360 with 1 Axes>"
      ]
     },
     "metadata": {
      "needs_background": "light"
     },
     "output_type": "display_data"
    }
   ],
   "source": [
    "a,b = plt.subplots(1,1,figsize=(10, 5))\n",
    "sns.boxplot(x=df['month'], y=df['cnt'])"
   ]
  },
  {
   "cell_type": "code",
   "execution_count": 11,
   "id": "8f6f2a3f",
   "metadata": {
    "execution": {
     "iopub.execute_input": "2022-03-31T14:52:41.433912Z",
     "iopub.status.busy": "2022-03-31T14:52:41.431879Z",
     "iopub.status.idle": "2022-03-31T14:52:41.702641Z",
     "shell.execute_reply": "2022-03-31T14:52:41.703062Z",
     "shell.execute_reply.started": "2022-03-31T13:16:27.784304Z"
    },
    "papermill": {
     "duration": 0.290875,
     "end_time": "2022-03-31T14:52:41.703243",
     "exception": false,
     "start_time": "2022-03-31T14:52:41.412368",
     "status": "completed"
    },
    "tags": []
   },
   "outputs": [
    {
     "data": {
      "text/plain": [
       "<AxesSubplot:xlabel='dayofweek', ylabel='cnt'>"
      ]
     },
     "execution_count": 11,
     "metadata": {},
     "output_type": "execute_result"
    },
    {
     "data": {
      "image/png": "[encoded data removed]",
      "text/plain": [
       "<Figure size 720x360 with 1 Axes>"
      ]
     },
     "metadata": {
      "needs_background": "light"
     },
     "output_type": "display_data"
    }
   ],
   "source": [
    "a,b = plt.subplots(1,1,figsize=(10, 5))\n",
    "sns.boxplot(x=df['dayofweek'], y=df['cnt'])"
   ]
  },
  {
   "cell_type": "code",
   "execution_count": 12,
   "id": "df48d18b",
   "metadata": {
    "execution": {
     "iopub.execute_input": "2022-03-31T14:52:41.752271Z",
     "iopub.status.busy": "2022-03-31T14:52:41.751310Z",
     "iopub.status.idle": "2022-03-31T14:52:42.364821Z",
     "shell.execute_reply": "2022-03-31T14:52:42.364308Z",
     "shell.execute_reply.started": "2022-03-31T13:16:28.088088Z"
    },
    "papermill": {
     "duration": 0.643562,
     "end_time": "2022-03-31T14:52:42.364962",
     "exception": false,
     "start_time": "2022-03-31T14:52:41.721400",
     "status": "completed"
    },
    "tags": []
   },
   "outputs": [
    {
     "data": {
      "text/plain": [
       "<AxesSubplot:xlabel='hour', ylabel='cnt'>"
      ]
     },
     "execution_count": 12,
     "metadata": {},
     "output_type": "execute_result"
    },
    {
     "data": {
      "image/png": "[encoded data removed]",
      "text/plain": [
       "<Figure size 720x360 with 1 Axes>"
      ]
     },
     "metadata": {
      "needs_background": "light"
     },
     "output_type": "display_data"
    }
   ],
   "source": [
    "a,b = plt.subplots(1,1,figsize=(10, 5))\n",
    "sns.boxplot(x=df['hour'], y=df['cnt'])"
   ]
  },
  {
   "cell_type": "code",
   "execution_count": 13,
   "id": "ce1df832",
   "metadata": {
    "execution": {
     "iopub.execute_input": "2022-03-31T14:52:42.409958Z",
     "iopub.status.busy": "2022-03-31T14:52:42.409362Z",
     "iopub.status.idle": "2022-03-31T14:52:42.411385Z",
     "shell.execute_reply": "2022-03-31T14:52:42.411819Z",
     "shell.execute_reply.started": "2022-03-31T13:16:28.688748Z"
    },
    "papermill": {
     "duration": 0.027092,
     "end_time": "2022-03-31T14:52:42.411972",
     "exception": false,
     "start_time": "2022-03-31T14:52:42.384880",
     "status": "completed"
    },
    "tags": []
   },
   "outputs": [],
   "source": [
    "#그래프 함수 만들기\n",
    "\n",
    "def plot_bar(data, feature):\n",
    "    fig = plt.figure(figsize=(12,3))\n",
    "    sns.barplot(x=feature, y='cnt', data=data, palette='Set3', orient='v')"
   ]
  },
  {
   "cell_type": "code",
   "execution_count": 14,
   "id": "f7bf6b14",
   "metadata": {
    "execution": {
     "iopub.execute_input": "2022-03-31T14:52:42.454521Z",
     "iopub.status.busy": "2022-03-31T14:52:42.453679Z",
     "iopub.status.idle": "2022-03-31T14:52:43.575993Z",
     "shell.execute_reply": "2022-03-31T14:52:43.575521Z",
     "shell.execute_reply.started": "2022-03-31T13:16:28.696562Z"
    },
    "papermill": {
     "duration": 1.14468,
     "end_time": "2022-03-31T14:52:43.576135",
     "exception": false,
     "start_time": "2022-03-31T14:52:42.431455",
     "status": "completed"
    },
    "tags": []
   },
   "outputs": [
    {
     "data": {
      "image/png": "[encoded data removed]",
      "text/plain": [
       "<Figure size 864x216 with 1 Axes>"
      ]
     },
     "metadata": {
      "needs_background": "light"
     },
     "output_type": "display_data"
    }
   ],
   "source": [
    "plot_bar(df,'hour')"
   ]
  },
  {
   "cell_type": "code",
   "execution_count": null,
   "id": "e430aba7",
   "metadata": {
    "papermill": {
     "duration": 0.02048,
     "end_time": "2022-03-31T14:52:43.617619",
     "exception": false,
     "start_time": "2022-03-31T14:52:43.597139",
     "status": "completed"
    },
    "tags": []
   },
   "outputs": [],
   "source": []
  }
 ],
 "metadata": {
  "kernelspec": {
   "display_name": "Python 3",
   "language": "python",
   "name": "python3"
  },
  "language_info": {
   "codemirror_mode": {
    "name": "ipython",
    "version": 3
   },
   "file_extension": ".py",
   "mimetype": "text/x-python",
   "name": "python",
   "nbconvert_exporter": "python",
   "pygments_lexer": "ipython3",
   "version": "3.7.12"
  },
  "papermill": {
   "default_parameters": {},
   "duration": 13.88137,
   "end_time": "2022-03-31T14:52:44.349283",
   "environment_variables": {},
   "exception": null,
   "input_path": "__notebook__.ipynb",
   "output_path": "__notebook__.ipynb",
   "parameters": {},
   "start_time": "2022-03-31T14:52:30.467913",
   "version": "2.3.3"
  }
 },
 "nbformat": 4,
 "nbformat_minor": 5
}
